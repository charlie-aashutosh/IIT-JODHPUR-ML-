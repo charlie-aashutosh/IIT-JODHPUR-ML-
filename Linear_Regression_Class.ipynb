{
  "nbformat": 4,
  "nbformat_minor": 0,
  "metadata": {
    "colab": {
      "provenance": [],
      "authorship_tag": "ABX9TyPKIOIO1kDg32/cRB2GOvrA",
      "include_colab_link": true
    },
    "kernelspec": {
      "name": "python3",
      "display_name": "Python 3"
    },
    "language_info": {
      "name": "python"
    }
  },
  "cells": [
    {
      "cell_type": "markdown",
      "metadata": {
        "id": "view-in-github",
        "colab_type": "text"
      },
      "source": [
        "<a href=\"https://colab.research.google.com/github/charlie-aashutosh/IIT-JODHPUR-ML-/blob/main/Linear_Regression_Class.ipynb\" target=\"_parent\"><img src=\"https://colab.research.google.com/assets/colab-badge.svg\" alt=\"Open In Colab\"/></a>"
      ]
    },
    {
      "cell_type": "code",
      "execution_count": 1,
      "metadata": {
        "id": "8m6vjkDXEkZe"
      },
      "outputs": [],
      "source": [
        "import numpy as np\n",
        "import pandas as pd\n",
        "import matplotlib.pyplot as plt\n",
        "import seaborn as snr"
      ]
    },
    {
      "cell_type": "markdown",
      "source": [
        "Step 1 : Gathering the data"
      ],
      "metadata": {
        "id": "H8ZzF75sGATA"
      }
    },
    {
      "cell_type": "code",
      "source": [
        "data=pd.read_csv(\"/content/data.csv\")"
      ],
      "metadata": {
        "id": "wDs44PZ5FK1M"
      },
      "execution_count": 2,
      "outputs": []
    },
    {
      "cell_type": "code",
      "source": [
        "data.head()"
      ],
      "metadata": {
        "colab": {
          "base_uri": "https://localhost:8080/",
          "height": 434
        },
        "id": "Dk7k7rzdFQl1",
        "outputId": "d89c6159-7d3d-4b5a-df87-ba5417b8bf20"
      },
      "execution_count": 3,
      "outputs": [
        {
          "output_type": "execute_result",
          "data": {
            "text/plain": [
              "  Make       Model  Year             Engine Fuel Type  Engine HP  \\\n",
              "0  BMW  1 Series M  2011  premium unleaded (required)      335.0   \n",
              "1  BMW    1 Series  2011  premium unleaded (required)      300.0   \n",
              "2  BMW    1 Series  2011  premium unleaded (required)      300.0   \n",
              "3  BMW    1 Series  2011  premium unleaded (required)      230.0   \n",
              "4  BMW    1 Series  2011  premium unleaded (required)      230.0   \n",
              "\n",
              "   Engine Cylinders Transmission Type     Driven_Wheels  Number of Doors  \\\n",
              "0               6.0            MANUAL  rear wheel drive              2.0   \n",
              "1               6.0            MANUAL  rear wheel drive              2.0   \n",
              "2               6.0            MANUAL  rear wheel drive              2.0   \n",
              "3               6.0            MANUAL  rear wheel drive              2.0   \n",
              "4               6.0            MANUAL  rear wheel drive              2.0   \n",
              "\n",
              "                         Market Category Vehicle Size Vehicle Style  \\\n",
              "0  Factory Tuner,Luxury,High-Performance      Compact         Coupe   \n",
              "1                     Luxury,Performance      Compact   Convertible   \n",
              "2                Luxury,High-Performance      Compact         Coupe   \n",
              "3                     Luxury,Performance      Compact         Coupe   \n",
              "4                                 Luxury      Compact   Convertible   \n",
              "\n",
              "   highway MPG  city mpg  Popularity   MSRP  \n",
              "0           26        19        3916  46135  \n",
              "1           28        19        3916  40650  \n",
              "2           28        20        3916  36350  \n",
              "3           28        18        3916  29450  \n",
              "4           28        18        3916  34500  "
            ],
            "text/html": [
              "\n",
              "  <div id=\"df-a098c3cf-0779-4139-9575-f3b7b11fc1f5\" class=\"colab-df-container\">\n",
              "    <div>\n",
              "<style scoped>\n",
              "    .dataframe tbody tr th:only-of-type {\n",
              "        vertical-align: middle;\n",
              "    }\n",
              "\n",
              "    .dataframe tbody tr th {\n",
              "        vertical-align: top;\n",
              "    }\n",
              "\n",
              "    .dataframe thead th {\n",
              "        text-align: right;\n",
              "    }\n",
              "</style>\n",
              "<table border=\"1\" class=\"dataframe\">\n",
              "  <thead>\n",
              "    <tr style=\"text-align: right;\">\n",
              "      <th></th>\n",
              "      <th>Make</th>\n",
              "      <th>Model</th>\n",
              "      <th>Year</th>\n",
              "      <th>Engine Fuel Type</th>\n",
              "      <th>Engine HP</th>\n",
              "      <th>Engine Cylinders</th>\n",
              "      <th>Transmission Type</th>\n",
              "      <th>Driven_Wheels</th>\n",
              "      <th>Number of Doors</th>\n",
              "      <th>Market Category</th>\n",
              "      <th>Vehicle Size</th>\n",
              "      <th>Vehicle Style</th>\n",
              "      <th>highway MPG</th>\n",
              "      <th>city mpg</th>\n",
              "      <th>Popularity</th>\n",
              "      <th>MSRP</th>\n",
              "    </tr>\n",
              "  </thead>\n",
              "  <tbody>\n",
              "    <tr>\n",
              "      <th>0</th>\n",
              "      <td>BMW</td>\n",
              "      <td>1 Series M</td>\n",
              "      <td>2011</td>\n",
              "      <td>premium unleaded (required)</td>\n",
              "      <td>335.0</td>\n",
              "      <td>6.0</td>\n",
              "      <td>MANUAL</td>\n",
              "      <td>rear wheel drive</td>\n",
              "      <td>2.0</td>\n",
              "      <td>Factory Tuner,Luxury,High-Performance</td>\n",
              "      <td>Compact</td>\n",
              "      <td>Coupe</td>\n",
              "      <td>26</td>\n",
              "      <td>19</td>\n",
              "      <td>3916</td>\n",
              "      <td>46135</td>\n",
              "    </tr>\n",
              "    <tr>\n",
              "      <th>1</th>\n",
              "      <td>BMW</td>\n",
              "      <td>1 Series</td>\n",
              "      <td>2011</td>\n",
              "      <td>premium unleaded (required)</td>\n",
              "      <td>300.0</td>\n",
              "      <td>6.0</td>\n",
              "      <td>MANUAL</td>\n",
              "      <td>rear wheel drive</td>\n",
              "      <td>2.0</td>\n",
              "      <td>Luxury,Performance</td>\n",
              "      <td>Compact</td>\n",
              "      <td>Convertible</td>\n",
              "      <td>28</td>\n",
              "      <td>19</td>\n",
              "      <td>3916</td>\n",
              "      <td>40650</td>\n",
              "    </tr>\n",
              "    <tr>\n",
              "      <th>2</th>\n",
              "      <td>BMW</td>\n",
              "      <td>1 Series</td>\n",
              "      <td>2011</td>\n",
              "      <td>premium unleaded (required)</td>\n",
              "      <td>300.0</td>\n",
              "      <td>6.0</td>\n",
              "      <td>MANUAL</td>\n",
              "      <td>rear wheel drive</td>\n",
              "      <td>2.0</td>\n",
              "      <td>Luxury,High-Performance</td>\n",
              "      <td>Compact</td>\n",
              "      <td>Coupe</td>\n",
              "      <td>28</td>\n",
              "      <td>20</td>\n",
              "      <td>3916</td>\n",
              "      <td>36350</td>\n",
              "    </tr>\n",
              "    <tr>\n",
              "      <th>3</th>\n",
              "      <td>BMW</td>\n",
              "      <td>1 Series</td>\n",
              "      <td>2011</td>\n",
              "      <td>premium unleaded (required)</td>\n",
              "      <td>230.0</td>\n",
              "      <td>6.0</td>\n",
              "      <td>MANUAL</td>\n",
              "      <td>rear wheel drive</td>\n",
              "      <td>2.0</td>\n",
              "      <td>Luxury,Performance</td>\n",
              "      <td>Compact</td>\n",
              "      <td>Coupe</td>\n",
              "      <td>28</td>\n",
              "      <td>18</td>\n",
              "      <td>3916</td>\n",
              "      <td>29450</td>\n",
              "    </tr>\n",
              "    <tr>\n",
              "      <th>4</th>\n",
              "      <td>BMW</td>\n",
              "      <td>1 Series</td>\n",
              "      <td>2011</td>\n",
              "      <td>premium unleaded (required)</td>\n",
              "      <td>230.0</td>\n",
              "      <td>6.0</td>\n",
              "      <td>MANUAL</td>\n",
              "      <td>rear wheel drive</td>\n",
              "      <td>2.0</td>\n",
              "      <td>Luxury</td>\n",
              "      <td>Compact</td>\n",
              "      <td>Convertible</td>\n",
              "      <td>28</td>\n",
              "      <td>18</td>\n",
              "      <td>3916</td>\n",
              "      <td>34500</td>\n",
              "    </tr>\n",
              "  </tbody>\n",
              "</table>\n",
              "</div>\n",
              "    <div class=\"colab-df-buttons\">\n",
              "\n",
              "  <div class=\"colab-df-container\">\n",
              "    <button class=\"colab-df-convert\" onclick=\"convertToInteractive('df-a098c3cf-0779-4139-9575-f3b7b11fc1f5')\"\n",
              "            title=\"Convert this dataframe to an interactive table.\"\n",
              "            style=\"display:none;\">\n",
              "\n",
              "  <svg xmlns=\"http://www.w3.org/2000/svg\" height=\"24px\" viewBox=\"0 -960 960 960\">\n",
              "    <path d=\"M120-120v-720h720v720H120Zm60-500h600v-160H180v160Zm220 220h160v-160H400v160Zm0 220h160v-160H400v160ZM180-400h160v-160H180v160Zm440 0h160v-160H620v160ZM180-180h160v-160H180v160Zm440 0h160v-160H620v160Z\"/>\n",
              "  </svg>\n",
              "    </button>\n",
              "\n",
              "  <style>\n",
              "    .colab-df-container {\n",
              "      display:flex;\n",
              "      gap: 12px;\n",
              "    }\n",
              "\n",
              "    .colab-df-convert {\n",
              "      background-color: #E8F0FE;\n",
              "      border: none;\n",
              "      border-radius: 50%;\n",
              "      cursor: pointer;\n",
              "      display: none;\n",
              "      fill: #1967D2;\n",
              "      height: 32px;\n",
              "      padding: 0 0 0 0;\n",
              "      width: 32px;\n",
              "    }\n",
              "\n",
              "    .colab-df-convert:hover {\n",
              "      background-color: #E2EBFA;\n",
              "      box-shadow: 0px 1px 2px rgba(60, 64, 67, 0.3), 0px 1px 3px 1px rgba(60, 64, 67, 0.15);\n",
              "      fill: #174EA6;\n",
              "    }\n",
              "\n",
              "    .colab-df-buttons div {\n",
              "      margin-bottom: 4px;\n",
              "    }\n",
              "\n",
              "    [theme=dark] .colab-df-convert {\n",
              "      background-color: #3B4455;\n",
              "      fill: #D2E3FC;\n",
              "    }\n",
              "\n",
              "    [theme=dark] .colab-df-convert:hover {\n",
              "      background-color: #434B5C;\n",
              "      box-shadow: 0px 1px 3px 1px rgba(0, 0, 0, 0.15);\n",
              "      filter: drop-shadow(0px 1px 2px rgba(0, 0, 0, 0.3));\n",
              "      fill: #FFFFFF;\n",
              "    }\n",
              "  </style>\n",
              "\n",
              "    <script>\n",
              "      const buttonEl =\n",
              "        document.querySelector('#df-a098c3cf-0779-4139-9575-f3b7b11fc1f5 button.colab-df-convert');\n",
              "      buttonEl.style.display =\n",
              "        google.colab.kernel.accessAllowed ? 'block' : 'none';\n",
              "\n",
              "      async function convertToInteractive(key) {\n",
              "        const element = document.querySelector('#df-a098c3cf-0779-4139-9575-f3b7b11fc1f5');\n",
              "        const dataTable =\n",
              "          await google.colab.kernel.invokeFunction('convertToInteractive',\n",
              "                                                    [key], {});\n",
              "        if (!dataTable) return;\n",
              "\n",
              "        const docLinkHtml = 'Like what you see? Visit the ' +\n",
              "          '<a target=\"_blank\" href=https://colab.research.google.com/notebooks/data_table.ipynb>data table notebook</a>'\n",
              "          + ' to learn more about interactive tables.';\n",
              "        element.innerHTML = '';\n",
              "        dataTable['output_type'] = 'display_data';\n",
              "        await google.colab.output.renderOutput(dataTable, element);\n",
              "        const docLink = document.createElement('div');\n",
              "        docLink.innerHTML = docLinkHtml;\n",
              "        element.appendChild(docLink);\n",
              "      }\n",
              "    </script>\n",
              "  </div>\n",
              "\n",
              "\n",
              "<div id=\"df-c651fefb-daa5-4aee-bfc5-347d96283561\">\n",
              "  <button class=\"colab-df-quickchart\" onclick=\"quickchart('df-c651fefb-daa5-4aee-bfc5-347d96283561')\"\n",
              "            title=\"Suggest charts\"\n",
              "            style=\"display:none;\">\n",
              "\n",
              "<svg xmlns=\"http://www.w3.org/2000/svg\" height=\"24px\"viewBox=\"0 0 24 24\"\n",
              "     width=\"24px\">\n",
              "    <g>\n",
              "        <path d=\"M19 3H5c-1.1 0-2 .9-2 2v14c0 1.1.9 2 2 2h14c1.1 0 2-.9 2-2V5c0-1.1-.9-2-2-2zM9 17H7v-7h2v7zm4 0h-2V7h2v10zm4 0h-2v-4h2v4z\"/>\n",
              "    </g>\n",
              "</svg>\n",
              "  </button>\n",
              "\n",
              "<style>\n",
              "  .colab-df-quickchart {\n",
              "      --bg-color: #E8F0FE;\n",
              "      --fill-color: #1967D2;\n",
              "      --hover-bg-color: #E2EBFA;\n",
              "      --hover-fill-color: #174EA6;\n",
              "      --disabled-fill-color: #AAA;\n",
              "      --disabled-bg-color: #DDD;\n",
              "  }\n",
              "\n",
              "  [theme=dark] .colab-df-quickchart {\n",
              "      --bg-color: #3B4455;\n",
              "      --fill-color: #D2E3FC;\n",
              "      --hover-bg-color: #434B5C;\n",
              "      --hover-fill-color: #FFFFFF;\n",
              "      --disabled-bg-color: #3B4455;\n",
              "      --disabled-fill-color: #666;\n",
              "  }\n",
              "\n",
              "  .colab-df-quickchart {\n",
              "    background-color: var(--bg-color);\n",
              "    border: none;\n",
              "    border-radius: 50%;\n",
              "    cursor: pointer;\n",
              "    display: none;\n",
              "    fill: var(--fill-color);\n",
              "    height: 32px;\n",
              "    padding: 0;\n",
              "    width: 32px;\n",
              "  }\n",
              "\n",
              "  .colab-df-quickchart:hover {\n",
              "    background-color: var(--hover-bg-color);\n",
              "    box-shadow: 0 1px 2px rgba(60, 64, 67, 0.3), 0 1px 3px 1px rgba(60, 64, 67, 0.15);\n",
              "    fill: var(--button-hover-fill-color);\n",
              "  }\n",
              "\n",
              "  .colab-df-quickchart-complete:disabled,\n",
              "  .colab-df-quickchart-complete:disabled:hover {\n",
              "    background-color: var(--disabled-bg-color);\n",
              "    fill: var(--disabled-fill-color);\n",
              "    box-shadow: none;\n",
              "  }\n",
              "\n",
              "  .colab-df-spinner {\n",
              "    border: 2px solid var(--fill-color);\n",
              "    border-color: transparent;\n",
              "    border-bottom-color: var(--fill-color);\n",
              "    animation:\n",
              "      spin 1s steps(1) infinite;\n",
              "  }\n",
              "\n",
              "  @keyframes spin {\n",
              "    0% {\n",
              "      border-color: transparent;\n",
              "      border-bottom-color: var(--fill-color);\n",
              "      border-left-color: var(--fill-color);\n",
              "    }\n",
              "    20% {\n",
              "      border-color: transparent;\n",
              "      border-left-color: var(--fill-color);\n",
              "      border-top-color: var(--fill-color);\n",
              "    }\n",
              "    30% {\n",
              "      border-color: transparent;\n",
              "      border-left-color: var(--fill-color);\n",
              "      border-top-color: var(--fill-color);\n",
              "      border-right-color: var(--fill-color);\n",
              "    }\n",
              "    40% {\n",
              "      border-color: transparent;\n",
              "      border-right-color: var(--fill-color);\n",
              "      border-top-color: var(--fill-color);\n",
              "    }\n",
              "    60% {\n",
              "      border-color: transparent;\n",
              "      border-right-color: var(--fill-color);\n",
              "    }\n",
              "    80% {\n",
              "      border-color: transparent;\n",
              "      border-right-color: var(--fill-color);\n",
              "      border-bottom-color: var(--fill-color);\n",
              "    }\n",
              "    90% {\n",
              "      border-color: transparent;\n",
              "      border-bottom-color: var(--fill-color);\n",
              "    }\n",
              "  }\n",
              "</style>\n",
              "\n",
              "  <script>\n",
              "    async function quickchart(key) {\n",
              "      const quickchartButtonEl =\n",
              "        document.querySelector('#' + key + ' button');\n",
              "      quickchartButtonEl.disabled = true;  // To prevent multiple clicks.\n",
              "      quickchartButtonEl.classList.add('colab-df-spinner');\n",
              "      try {\n",
              "        const charts = await google.colab.kernel.invokeFunction(\n",
              "            'suggestCharts', [key], {});\n",
              "      } catch (error) {\n",
              "        console.error('Error during call to suggestCharts:', error);\n",
              "      }\n",
              "      quickchartButtonEl.classList.remove('colab-df-spinner');\n",
              "      quickchartButtonEl.classList.add('colab-df-quickchart-complete');\n",
              "    }\n",
              "    (() => {\n",
              "      let quickchartButtonEl =\n",
              "        document.querySelector('#df-c651fefb-daa5-4aee-bfc5-347d96283561 button');\n",
              "      quickchartButtonEl.style.display =\n",
              "        google.colab.kernel.accessAllowed ? 'block' : 'none';\n",
              "    })();\n",
              "  </script>\n",
              "</div>\n",
              "\n",
              "    </div>\n",
              "  </div>\n"
            ],
            "application/vnd.google.colaboratory.intrinsic+json": {
              "type": "dataframe",
              "variable_name": "data",
              "summary": "{\n  \"name\": \"data\",\n  \"rows\": 11914,\n  \"fields\": [\n    {\n      \"column\": \"Make\",\n      \"properties\": {\n        \"dtype\": \"category\",\n        \"num_unique_values\": 48,\n        \"samples\": [\n          \"Chevrolet\",\n          \"Land Rover\",\n          \"Bentley\"\n        ],\n        \"semantic_type\": \"\",\n        \"description\": \"\"\n      }\n    },\n    {\n      \"column\": \"Model\",\n      \"properties\": {\n        \"dtype\": \"category\",\n        \"num_unique_values\": 915,\n        \"samples\": [\n          \"G35\",\n          \"Van\",\n          \"Flex\"\n        ],\n        \"semantic_type\": \"\",\n        \"description\": \"\"\n      }\n    },\n    {\n      \"column\": \"Year\",\n      \"properties\": {\n        \"dtype\": \"number\",\n        \"std\": 7,\n        \"min\": 1990,\n        \"max\": 2017,\n        \"num_unique_values\": 28,\n        \"samples\": [\n          1990,\n          2000,\n          2016\n        ],\n        \"semantic_type\": \"\",\n        \"description\": \"\"\n      }\n    },\n    {\n      \"column\": \"Engine Fuel Type\",\n      \"properties\": {\n        \"dtype\": \"category\",\n        \"num_unique_values\": 10,\n        \"samples\": [\n          \"flex-fuel (premium unleaded required/E85)\",\n          \"regular unleaded\",\n          \"electric\"\n        ],\n        \"semantic_type\": \"\",\n        \"description\": \"\"\n      }\n    },\n    {\n      \"column\": \"Engine HP\",\n      \"properties\": {\n        \"dtype\": \"number\",\n        \"std\": 109.19187025917206,\n        \"min\": 55.0,\n        \"max\": 1001.0,\n        \"num_unique_values\": 356,\n        \"samples\": [\n          145.0,\n          201.0,\n          219.0\n        ],\n        \"semantic_type\": \"\",\n        \"description\": \"\"\n      }\n    },\n    {\n      \"column\": \"Engine Cylinders\",\n      \"properties\": {\n        \"dtype\": \"number\",\n        \"std\": 1.780559348246223,\n        \"min\": 0.0,\n        \"max\": 16.0,\n        \"num_unique_values\": 9,\n        \"samples\": [\n          3.0,\n          4.0,\n          0.0\n        ],\n        \"semantic_type\": \"\",\n        \"description\": \"\"\n      }\n    },\n    {\n      \"column\": \"Transmission Type\",\n      \"properties\": {\n        \"dtype\": \"category\",\n        \"num_unique_values\": 5,\n        \"samples\": [\n          \"AUTOMATIC\",\n          \"UNKNOWN\",\n          \"AUTOMATED_MANUAL\"\n        ],\n        \"semantic_type\": \"\",\n        \"description\": \"\"\n      }\n    },\n    {\n      \"column\": \"Driven_Wheels\",\n      \"properties\": {\n        \"dtype\": \"category\",\n        \"num_unique_values\": 4,\n        \"samples\": [\n          \"front wheel drive\",\n          \"four wheel drive\",\n          \"rear wheel drive\"\n        ],\n        \"semantic_type\": \"\",\n        \"description\": \"\"\n      }\n    },\n    {\n      \"column\": \"Number of Doors\",\n      \"properties\": {\n        \"dtype\": \"number\",\n        \"std\": 0.8813153865835543,\n        \"min\": 2.0,\n        \"max\": 4.0,\n        \"num_unique_values\": 3,\n        \"samples\": [\n          2.0,\n          4.0,\n          3.0\n        ],\n        \"semantic_type\": \"\",\n        \"description\": \"\"\n      }\n    },\n    {\n      \"column\": \"Market Category\",\n      \"properties\": {\n        \"dtype\": \"category\",\n        \"num_unique_values\": 71,\n        \"samples\": [\n          \"Exotic,Luxury,Performance\",\n          \"Factory Tuner,Luxury,High-Performance\",\n          \"Crossover,Flex Fuel,Luxury\"\n        ],\n        \"semantic_type\": \"\",\n        \"description\": \"\"\n      }\n    },\n    {\n      \"column\": \"Vehicle Size\",\n      \"properties\": {\n        \"dtype\": \"category\",\n        \"num_unique_values\": 3,\n        \"samples\": [\n          \"Compact\",\n          \"Midsize\",\n          \"Large\"\n        ],\n        \"semantic_type\": \"\",\n        \"description\": \"\"\n      }\n    },\n    {\n      \"column\": \"Vehicle Style\",\n      \"properties\": {\n        \"dtype\": \"category\",\n        \"num_unique_values\": 16,\n        \"samples\": [\n          \"Coupe\",\n          \"Convertible\",\n          \"2dr Hatchback\"\n        ],\n        \"semantic_type\": \"\",\n        \"description\": \"\"\n      }\n    },\n    {\n      \"column\": \"highway MPG\",\n      \"properties\": {\n        \"dtype\": \"number\",\n        \"std\": 8,\n        \"min\": 12,\n        \"max\": 354,\n        \"num_unique_values\": 59,\n        \"samples\": [\n          26,\n          20,\n          354\n        ],\n        \"semantic_type\": \"\",\n        \"description\": \"\"\n      }\n    },\n    {\n      \"column\": \"city mpg\",\n      \"properties\": {\n        \"dtype\": \"number\",\n        \"std\": 8,\n        \"min\": 7,\n        \"max\": 137,\n        \"num_unique_values\": 69,\n        \"samples\": [\n          9,\n          19,\n          41\n        ],\n        \"semantic_type\": \"\",\n        \"description\": \"\"\n      }\n    },\n    {\n      \"column\": \"Popularity\",\n      \"properties\": {\n        \"dtype\": \"number\",\n        \"std\": 1441,\n        \"min\": 2,\n        \"max\": 5657,\n        \"num_unique_values\": 48,\n        \"samples\": [\n          1385,\n          258,\n          520\n        ],\n        \"semantic_type\": \"\",\n        \"description\": \"\"\n      }\n    },\n    {\n      \"column\": \"MSRP\",\n      \"properties\": {\n        \"dtype\": \"number\",\n        \"std\": 60109,\n        \"min\": 2000,\n        \"max\": 2065902,\n        \"num_unique_values\": 6049,\n        \"samples\": [\n          42610,\n          32030,\n          89995\n        ],\n        \"semantic_type\": \"\",\n        \"description\": \"\"\n      }\n    }\n  ]\n}"
            }
          },
          "metadata": {},
          "execution_count": 3
        }
      ]
    },
    {
      "cell_type": "code",
      "source": [
        "plt.figure(figsize=(10,10))\n",
        "snr.countplot(y=data.Make)\n",
        "plt.title(\"Brands with the number of cars manufactured\",fontsize=20)\n",
        "plt.show()"
      ],
      "metadata": {
        "colab": {
          "base_uri": "https://localhost:8080/",
          "height": 854
        },
        "id": "AszeOGouGQGI",
        "outputId": "7a8494ab-b62b-40df-e443-d99c02216df8"
      },
      "execution_count": 5,
      "outputs": [
        {
          "output_type": "display_data",
          "data": {
            "text/plain": [
              "<Figure size 1000x1000 with 1 Axes>"
            ],
            "image/png": "[encoded data removed]"
          },
          "metadata": {}
        }
      ]
    },
    {
      "cell_type": "code",
      "source": [
        "plt.figure(figsize=(10,10))\n",
        "snr.countplot(x='Vehicle Size',data=data,palette='Set1')\n",
        "plt.title(\"Count of manufactured vehicles based on Vehicle size\",fontsize=20)"
      ],
      "metadata": {
        "colab": {
          "base_uri": "https://localhost:8080/",
          "height": 1000
        },
        "id": "I4hR0hYNHvfl",
        "outputId": "cc10208a-3e45-4a61-81c3-a43369958845"
      },
      "execution_count": 9,
      "outputs": [
        {
          "output_type": "stream",
          "name": "stderr",
          "text": [
            "<ipython-input-9-2ac7fef8632e>:2: FutureWarning: \n",
            "\n",
            "Passing `palette` without assigning `hue` is deprecated and will be removed in v0.14.0. Assign the `x` variable to `hue` and set `legend=False` for the same effect.\n",
            "\n",
            "  snr.countplot(x='Vehicle Size',data=data,palette='Set1')\n"
          ]
        },
        {
          "output_type": "execute_result",
          "data": {
            "text/plain": [
              "Text(0.5, 1.0, 'Count of manufactured vehicles based on Vehicle size')"
            ]
          },
          "metadata": {},
          "execution_count": 9
        },
        {
          "output_type": "display_data",
          "data": {
            "text/plain": [
              "<Figure size 1000x1000 with 1 Axes>"
            ],
            "image/png": "[encoded data removed]"
          },
          "metadata": {}
        }
      ]
    },
    {
      "cell_type": "code",
      "source": [
        "plt.figure(figsize=(10,10))\n",
        "snr.countplot(x='Transmission Type',data=data,palette='Set1')"
      ],
      "metadata": {
        "colab": {
          "base_uri": "https://localhost:8080/",
          "height": 977
        },
        "id": "7-WBKWU-IRf9",
        "outputId": "acf03bbe-1f93-41b0-d6ec-ea252166f76f"
      },
      "execution_count": 8,
      "outputs": [
        {
          "output_type": "stream",
          "name": "stderr",
          "text": [
            "<ipython-input-8-e8d3cb4a04e8>:2: FutureWarning: \n",
            "\n",
            "Passing `palette` without assigning `hue` is deprecated and will be removed in v0.14.0. Assign the `x` variable to `hue` and set `legend=False` for the same effect.\n",
            "\n",
            "  snr.countplot(x='Transmission Type',data=data,palette='Set1')\n"
          ]
        },
        {
          "output_type": "execute_result",
          "data": {
            "text/plain": [
              "<Axes: xlabel='Transmission Type', ylabel='count'>"
            ]
          },
          "metadata": {},
          "execution_count": 8
        },
        {
          "output_type": "display_data",
          "data": {
            "text/plain": [
              "<Figure size 1000x1000 with 1 Axes>"
            ],
            "image/png": "[encoded data removed]"
          },
          "metadata": {}
        }
      ]
    },
    {
      "cell_type": "code",
      "source": [
        "plt.figure(figsize=(10,10))\n",
        "data.groupby('Transmission Type')['MSRP'].mean().plot(kind='bar')\n",
        "plt.title(\"Average price of cars in different transmission types\",fontsize=20)\n",
        "plt.show()"
      ],
      "metadata": {
        "colab": {
          "base_uri": "https://localhost:8080/",
          "height": 1000
        },
        "id": "hijkmghYJuc7",
        "outputId": "65d69d6d-45a9-43f9-a40d-7f3d564c8cd5"
      },
      "execution_count": 10,
      "outputs": [
        {
          "output_type": "display_data",
          "data": {
            "text/plain": [
              "<Figure size 1000x1000 with 1 Axes>"
            ],
            "image/png": "[encoded data removed]"
          },
          "metadata": {}
        }
      ]
    },
    {
      "cell_type": "code",
      "source": [
        "data.info()"
      ],
      "metadata": {
        "colab": {
          "base_uri": "https://localhost:8080/"
        },
        "id": "1LsQAAL9LY99",
        "outputId": "98db533e-d2a9-46b0-8265-13073c352ec4"
      },
      "execution_count": 12,
      "outputs": [
        {
          "output_type": "stream",
          "name": "stdout",
          "text": [
            "<class 'pandas.core.frame.DataFrame'>\n",
            "RangeIndex: 11914 entries, 0 to 11913\n",
            "Data columns (total 16 columns):\n",
            " #   Column             Non-Null Count  Dtype  \n",
            "---  ------             --------------  -----  \n",
            " 0   Make               11914 non-null  object \n",
            " 1   Model              11914 non-null  object \n",
            " 2   Year               11914 non-null  int64  \n",
            " 3   Engine Fuel Type   11911 non-null  object \n",
            " 4   Engine HP          11845 non-null  float64\n",
            " 5   Engine Cylinders   11884 non-null  float64\n",
            " 6   Transmission Type  11914 non-null  object \n",
            " 7   Driven_Wheels      11914 non-null  object \n",
            " 8   Number of Doors    11908 non-null  float64\n",
            " 9   Market Category    8172 non-null   object \n",
            " 10  Vehicle Size       11914 non-null  object \n",
            " 11  Vehicle Style      11914 non-null  object \n",
            " 12  highway MPG        11914 non-null  int64  \n",
            " 13  city mpg           11914 non-null  int64  \n",
            " 14  Popularity         11914 non-null  int64  \n",
            " 15  MSRP               11914 non-null  int64  \n",
            "dtypes: float64(3), int64(5), object(8)\n",
            "memory usage: 1.5+ MB\n"
          ]
        }
      ]
    },
    {
      "cell_type": "markdown",
      "source": [
        "Step 2 : Data preprocessing"
      ],
      "metadata": {
        "id": "K47YTo6lGGt4"
      }
    },
    {
      "cell_type": "code",
      "source": [
        "#converting the categorical variables into numeric format -- LabelEncoder\n",
        "from sklearn.preprocessing import LabelEncoder\n",
        "label_encoder=LabelEncoder()"
      ],
      "metadata": {
        "id": "6pDTWVE9FSEB"
      },
      "execution_count": 15,
      "outputs": []
    },
    {
      "cell_type": "code",
      "source": [
        "data['Engine Fuel Type'].unique()"
      ],
      "metadata": {
        "colab": {
          "base_uri": "https://localhost:8080/"
        },
        "id": "IHTRLE8CNje5",
        "outputId": "cb1865f1-9f3d-4cc4-e7a5-a0cf7ed46a2e"
      },
      "execution_count": 16,
      "outputs": [
        {
          "output_type": "execute_result",
          "data": {
            "text/plain": [
              "array(['premium unleaded (required)', 'regular unleaded',\n",
              "       'premium unleaded (recommended)', 'flex-fuel (unleaded/E85)',\n",
              "       'diesel', 'electric',\n",
              "       'flex-fuel (premium unleaded recommended/E85)', 'natural gas',\n",
              "       'flex-fuel (premium unleaded required/E85)',\n",
              "       'flex-fuel (unleaded/natural gas)', nan], dtype=object)"
            ]
          },
          "metadata": {},
          "execution_count": 16
        }
      ]
    },
    {
      "cell_type": "code",
      "source": [
        "data['Engine Fuel Type']=label_encoder.fit_transform(data['Engine Fuel Type'])"
      ],
      "metadata": {
        "id": "gPbuHQCZNsfb"
      },
      "execution_count": 17,
      "outputs": []
    },
    {
      "cell_type": "code",
      "source": [
        "data['Engine Fuel Type'].unique()"
      ],
      "metadata": {
        "colab": {
          "base_uri": "https://localhost:8080/"
        },
        "id": "k6gr3mkLN9Hj",
        "outputId": "cc615faa-4e47-4432-a113-b5f391562ec2"
      },
      "execution_count": 18,
      "outputs": [
        {
          "output_type": "execute_result",
          "data": {
            "text/plain": [
              "array([ 8,  9,  7,  4,  0,  1,  2,  6,  3,  5, 10])"
            ]
          },
          "metadata": {},
          "execution_count": 18
        }
      ]
    },
    {
      "cell_type": "code",
      "source": [
        "data['Make'].unique()"
      ],
      "metadata": {
        "colab": {
          "base_uri": "https://localhost:8080/"
        },
        "id": "T0ISFOPqOAGu",
        "outputId": "f94dd621-eaa3-4ee3-abc3-17dcbdf65651"
      },
      "execution_count": 20,
      "outputs": [
        {
          "output_type": "execute_result",
          "data": {
            "text/plain": [
              "array(['BMW', 'Audi', 'FIAT', 'Mercedes-Benz', 'Chrysler', 'Nissan',\n",
              "       'Volvo', 'Mazda', 'Mitsubishi', 'Ferrari', 'Alfa Romeo', 'Toyota',\n",
              "       'McLaren', 'Maybach', 'Pontiac', 'Porsche', 'Saab', 'GMC',\n",
              "       'Hyundai', 'Plymouth', 'Honda', 'Oldsmobile', 'Suzuki', 'Ford',\n",
              "       'Cadillac', 'Kia', 'Bentley', 'Chevrolet', 'Dodge', 'Lamborghini',\n",
              "       'Lincoln', 'Subaru', 'Volkswagen', 'Spyker', 'Buick', 'Acura',\n",
              "       'Rolls-Royce', 'Maserati', 'Lexus', 'Aston Martin', 'Land Rover',\n",
              "       'Lotus', 'Infiniti', 'Scion', 'Genesis', 'HUMMER', 'Tesla',\n",
              "       'Bugatti'], dtype=object)"
            ]
          },
          "metadata": {},
          "execution_count": 20
        }
      ]
    },
    {
      "cell_type": "code",
      "source": [
        "data['Make']=label_encoder.fit_transform(data['Make'])"
      ],
      "metadata": {
        "id": "-HJfN1FSOK1j"
      },
      "execution_count": 21,
      "outputs": []
    },
    {
      "cell_type": "code",
      "source": [
        "data['Make'].unique()"
      ],
      "metadata": {
        "colab": {
          "base_uri": "https://localhost:8080/"
        },
        "id": "NDq_SpDWObpt",
        "outputId": "6625de0f-8103-492b-d67e-cd2dece363e4"
      },
      "execution_count": 22,
      "outputs": [
        {
          "output_type": "execute_result",
          "data": {
            "text/plain": [
              "array([ 4,  3, 12, 31, 10, 33, 47, 29, 32, 13,  1, 45, 30, 28, 36, 37, 39,\n",
              "       15, 19, 35, 18, 34, 43, 14,  8, 21,  5,  9, 11, 22, 25, 42, 46, 41,\n",
              "        7,  0, 38, 27, 24,  2, 23, 26, 20, 40, 16, 17, 44,  6])"
            ]
          },
          "metadata": {},
          "execution_count": 22
        }
      ]
    },
    {
      "cell_type": "code",
      "source": [
        "data['Model'].unique()"
      ],
      "metadata": {
        "colab": {
          "base_uri": "https://localhost:8080/"
        },
        "id": "Fsh9S9nKOdej",
        "outputId": "fb08d1b3-65f4-4d28-c526-5f721ca57f1f"
      },
      "execution_count": 23,
      "outputs": [
        {
          "output_type": "execute_result",
          "data": {
            "text/plain": [
              "array(['1 Series M', '1 Series', '100', '124 Spider', '190-Class',\n",
              "       '2 Series', '200', '200SX', '240SX', '240', '2',\n",
              "       '3 Series Gran Turismo', '3 Series', '300-Class', '3000GT', '300',\n",
              "       '300M', '300ZX', '323', '350-Class', '350Z', '360', '370Z', '3',\n",
              "       '4 Series Gran Coupe', '4 Series', '400-Class', '420-Class',\n",
              "       '456M', '458 Italia', '4C', '4Runner', '5 Series Gran Turismo',\n",
              "       '5 Series', '500-Class', '500e', '500', '500L', '500X', '550',\n",
              "       '560-Class', '570S', '575M', '57', '599', '5',\n",
              "       '6 Series Gran Coupe', '6 Series', '600-Class', '6000',\n",
              "       '612 Scaglietti', '626', '62', '650S Coupe', '650S Spider', '6',\n",
              "       '7 Series', '718 Cayman', '740', '760', '780', '8 Series', '80',\n",
              "       '850', '86', '9-2X', '9-3 Griffin', '9-3', '9-4X', '9-5', '9-7X',\n",
              "       '9000', '900', '90', '911', '928', '929', '940', '944', '960',\n",
              "       '968', 'A3', 'A4 allroad', 'A4', 'A5', 'A6', 'A7', 'A8',\n",
              "       'Acadia Limited', 'Acadia', 'Accent', 'Acclaim',\n",
              "       'Accord Crosstour', 'Accord Hybrid', 'Accord Plug-In Hybrid',\n",
              "       'Accord', 'Achieva', 'ActiveHybrid 5', 'ActiveHybrid 7',\n",
              "       'ActiveHybrid X6', 'Aerio', 'Aerostar', 'Alero', 'Allante',\n",
              "       'allroad quattro', 'allroad', 'ALPINA B6 Gran Coupe', 'ALPINA B7',\n",
              "       'Alpina', 'Altima Hybrid', 'Altima', 'Amanti', 'AMG GT', 'Armada',\n",
              "       'Arnage', 'Aspen', 'Aspire', 'Astro Cargo', 'Astro', 'ATS Coupe',\n",
              "       'ATS-V', 'ATS', 'Aurora', 'Avalanche', 'Avalon Hybrid', 'Avalon',\n",
              "       'Avenger', 'Aventador', 'Aveo', 'Aviator', 'Axxess', 'Azera',\n",
              "       'Aztek', 'Azure T', 'Azure', 'B-Class Electric Drive',\n",
              "       'B-Series Pickup', 'B-Series Truck', 'B-Series', 'B9 Tribeca',\n",
              "       'Baja', 'Beetle Convertible', 'Beetle', 'Beretta',\n",
              "       'Black Diamond Avalanche', 'Blackwood', 'Blazer', 'Bolt EV',\n",
              "       'Bonneville', 'Borrego', 'Boxster', 'Bravada', 'Breeze',\n",
              "       'Bronco II', 'Bronco', 'Brooklands', 'Brougham', 'BRZ', 'C-Class',\n",
              "       'C-Max Hybrid', 'C30', 'C36 AMG', 'C43 AMG', 'C70', 'C8',\n",
              "       'Cabriolet', 'Cabrio', 'Cadenza', 'Caliber', 'California T',\n",
              "       'California', 'Camaro', 'Camry Hybrid', 'Camry Solara', 'Camry',\n",
              "       'Canyon', 'Caprice', 'Captiva Sport', 'Caravan', 'Carrera GT',\n",
              "       'Cascada', 'Catera', 'Cavalier', 'Cayenne', 'Cayman S', 'Cayman',\n",
              "       'CC', 'Celebrity', 'Celica', 'Century', 'Challenger', 'Charger',\n",
              "       'Chevy Van', 'Ciera', 'Cirrus', 'City Express', 'Civic CRX',\n",
              "       'Civic del Sol', 'Civic', 'C/K 1500 Series', 'C/K 2500 Series',\n",
              "       'CL-Class', 'CLA-Class', 'CL', 'Classic', 'CLK-Class', 'CLS-Class',\n",
              "       'Cobalt', 'Colorado', 'Colt', 'Concorde',\n",
              "       'Continental Flying Spur Speed', 'Continental Flying Spur',\n",
              "       'Continental GT Speed Convertible', 'Continental GT Speed',\n",
              "       'Continental GT3-R', 'Continental GT', 'Continental GTC Speed',\n",
              "       'Continental GTC', 'Continental Supersports Convertible',\n",
              "       'Continental Supersports', 'Continental', 'Contour SVT', 'Contour',\n",
              "       'Corniche', 'Corolla iM', 'Corolla', 'Corrado', 'Corsica',\n",
              "       'Corvette Stingray', 'Corvette', 'Coupe', 'CR-V', 'CR-Z',\n",
              "       'Cressida', 'Crossfire', 'Crosstour', 'Crosstrek',\n",
              "       'Crown Victoria', 'Cruze Limited', 'Cruze', 'CT 200h', 'CT6',\n",
              "       'CTS Coupe', 'CTS-V Coupe', 'CTS-V Wagon', 'CTS-V', 'CTS Wagon',\n",
              "       'CTS', 'Cube', 'Custom Cruiser', 'Cutlass Calais', 'Cutlass Ciera',\n",
              "       'Cutlass Supreme', 'Cutlass', 'CX-3', 'CX-5', 'CX-7', 'CX-9',\n",
              "       'Dakota', 'Dart', 'Dawn', 'Daytona', 'DB7', 'DB9 GT', 'DB9', 'DBS',\n",
              "       'Defender', 'DeVille', 'Diablo', 'Diamante', 'Discovery Series II',\n",
              "       'Discovery Sport', 'Discovery', 'DTS', 'Durango', 'Dynasty',\n",
              "       'E-150', 'E-250', 'E-Class', 'e-Golf', 'E-Series Van',\n",
              "       'E-Series Wagon', 'E55 AMG', 'ECHO', 'Eclipse Spyder', 'Eclipse',\n",
              "       'Edge', 'Eighty-Eight Royale', 'Eighty-Eight', 'Elantra Coupe',\n",
              "       'Elantra GT', 'Elantra Touring', 'Elantra', 'Eldorado', 'Electra',\n",
              "       'Element', 'Elise', 'Enclave', 'Encore', 'Endeavor', 'Entourage',\n",
              "       'Envision', 'Envoy XL', 'Envoy XUV', 'Envoy', 'Enzo', 'Eos',\n",
              "       'Equator', 'Equinox', 'Equus', 'ES 250', 'ES 300h', 'ES 300',\n",
              "       'ES 330', 'ES 350', 'Escalade ESV', 'Escalade EXT',\n",
              "       'Escalade Hybrid', 'Escalade', 'Escape Hybrid', 'Escape', 'Escort',\n",
              "       'Esprit', 'Estate Wagon', 'Esteem', 'EuroVan', 'Evora 400',\n",
              "       'Evora', 'EX35', 'Excel', 'Exige', 'EX', 'Expedition',\n",
              "       'Explorer Sport Trac', 'Explorer Sport', 'Explorer', 'Expo',\n",
              "       'Express Cargo', 'Express', 'F-150 Heritage',\n",
              "       'F-150 SVT Lightning', 'F-150', 'F-250', 'F12 Berlinetta', 'F430',\n",
              "       'Festiva', 'FF', 'Fiesta', 'Firebird', 'Fit EV', 'Fit',\n",
              "       'Five Hundred', 'FJ Cruiser', 'Fleetwood', 'Flex', 'Flying Spur',\n",
              "       'Focus RS', 'Focus ST', 'Focus', 'Forenza', 'Forester', 'Forte',\n",
              "       'Fox', 'FR-S', 'Freelander', 'Freestar', 'Freestyle', 'Frontier',\n",
              "       'Fusion Hybrid', 'Fusion', 'FX35', 'FX45', 'FX50', 'FX', 'G-Class',\n",
              "       'G Convertible', 'G Coupe', 'G Sedan', 'G20', 'G35',\n",
              "       'G37 Convertible', 'G37 Coupe', 'G37 Sedan', 'G37', 'G3', 'G5',\n",
              "       'G6', 'G80', 'G8', 'Galant', 'Gallardo', 'Genesis Coupe',\n",
              "       'Genesis', 'Ghibli', 'Ghost Series II', 'Ghost', 'GL-Class',\n",
              "       'GLA-Class', 'GLC-Class', 'GLE-Class Coupe', 'GLE-Class', 'GLI',\n",
              "       'GLK-Class', 'GLS-Class', 'Golf Alltrack', 'Golf GTI', 'Golf R',\n",
              "       'Golf SportWagen', 'Golf', 'Grand Am', 'Grand Caravan',\n",
              "       'Grand Prix', 'Grand Vitara', 'Grand Voyager', 'GranSport',\n",
              "       'GranTurismo Convertible', 'GranTurismo', 'GS 200t', 'GS 300',\n",
              "       'GS 350', 'GS 400', 'GS 430', 'GS 450h', 'GS 460', 'GS F', 'GT-R',\n",
              "       'GT', 'GTI', 'GTO', 'GX 460', 'GX 470', 'H3', 'H3T', 'HHR',\n",
              "       'Highlander Hybrid', 'Highlander', 'Horizon', 'HR-V', 'HS 250h',\n",
              "       'Huracan', 'i-MiEV', 'I30', 'I35', 'i3', 'iA', 'ILX Hybrid', 'ILX',\n",
              "       'Impala Limited', 'Impala', 'Imperial', 'Impreza WRX', 'Impreza',\n",
              "       'iM', 'Insight', 'Integra', 'Intrepid', 'Intrigue', 'iQ',\n",
              "       'IS 200t', 'IS 250 C', 'IS 250', 'IS 300', 'IS 350 C', 'IS 350',\n",
              "       'IS F', 'J30', 'Jetta GLI', 'Jetta Hybrid', 'Jetta SportWagen',\n",
              "       'Jetta', 'Jimmy', 'Journey', 'Juke', 'Justy', 'JX', 'K900',\n",
              "       'Kizashi', 'LaCrosse', 'Lancer Evolution', 'Lancer Sportback',\n",
              "       'Lancer', 'Land Cruiser', 'Landaulet', 'Laser', 'Le Baron',\n",
              "       'Le Mans', 'Leaf', 'Legacy', 'Legend', 'LeSabre', 'Levante', 'LFA',\n",
              "       'LHS', 'Loyale', 'LR2', 'LR3', 'LR4', 'LS 400', 'LS 430', 'LS 460',\n",
              "       'LS 600h L', 'LS', 'LSS', 'LTD Crown Victoria', 'Lucerne',\n",
              "       'Lumina Minivan', 'Lumina', 'LX 450', 'LX 470', 'LX 570',\n",
              "       'M-Class', 'M2', 'M30', 'M35', 'M37', 'M3', 'M4 GTS', 'M45', 'M4',\n",
              "       'M56', 'M5', 'M6 Gran Coupe', 'M6', 'Macan', 'Magnum',\n",
              "       'Malibu Classic', 'Malibu Hybrid', 'Malibu Limited', 'Malibu Maxx',\n",
              "       'Malibu', 'Mark LT', 'Mark VIII', 'Mark VII', 'Matrix', 'Maxima',\n",
              "       'Maybach', 'Mazdaspeed 3', 'Mazdaspeed 6', 'Mazdaspeed MX-5 Miata',\n",
              "       'Mazdaspeed Protege', 'M', 'MDX', 'Metris', 'Metro',\n",
              "       'Mighty Max Pickup', 'Millenia', 'Mirage G4', 'Mirage', 'MKC',\n",
              "       'MKS', 'MKT', 'MKX', 'MKZ Hybrid', 'MKZ', 'ML55 AMG', 'Model S',\n",
              "       'Monaco', 'Montana SV6', 'Montana', 'Monte Carlo', 'Montero Sport',\n",
              "       'Montero', 'MP4-12C', 'MPV', 'MR2 Spyder', 'MR2', 'Mulsanne',\n",
              "       'Murano CrossCabriolet', 'Murano', 'Murcielago',\n",
              "       'Mustang SVT Cobra', 'Mustang', 'MX-3', 'MX-5 Miata', 'MX-6',\n",
              "       'Navajo', 'Navigator', 'Neon', 'New Beetle', 'New Yorker',\n",
              "       'Ninety-Eight', 'Nitro', 'NSX', 'NV200', 'NX 200t', 'NX 300h',\n",
              "       'NX', 'Odyssey', 'Omni', 'Optima Hybrid', 'Optima', 'Outback',\n",
              "       'Outlander Sport', 'Outlander', 'Pacifica', 'Panamera',\n",
              "       'Park Avenue', 'Park Ward', 'Paseo', 'Passat', 'Passport',\n",
              "       'Pathfinder', 'Phaeton', 'Phantom Coupe', 'Phantom Drophead Coupe',\n",
              "       'Phantom', 'Pickup', 'Pilot', 'Precis', 'Prelude', 'Previa',\n",
              "       'Prius c', 'Prius Prime', 'Prius v', 'Prius', 'Prizm', 'Probe',\n",
              "       'Protege5', 'Protege', 'Prowler', 'PT Cruiser', 'Pulsar', 'Q3',\n",
              "       'Q40', 'Q45', 'Q50', 'Q5', 'Q60 Convertible', 'Q60 Coupe', 'Q70',\n",
              "       'Q7', 'Quattroporte', 'Quest', 'QX4', 'QX50', 'QX56', 'QX60',\n",
              "       'QX70', 'QX80', 'QX', 'R-Class', 'R32', 'R8', 'Rabbit', 'Raider',\n",
              "       'Rainier', 'Rally Wagon', 'RAM 150', 'RAM 250', 'Ram 50 Pickup',\n",
              "       'Ram Cargo', 'Ram Pickup 1500', 'Ram Van', 'Ram Wagon',\n",
              "       'Ramcharger', 'Range Rover Evoque', 'Range Rover Sport',\n",
              "       'Range Rover', 'Ranger', 'Rapide S', 'Rapide', 'RAV4 EV',\n",
              "       'RAV4 Hybrid', 'RAV4', 'RC 200t', 'RC 300', 'RC 350', 'RC F',\n",
              "       'RDX', 'Reatta', 'Regal', 'Regency', 'Rendezvous', 'Reno',\n",
              "       'Reventon', 'Ridgeline', 'Rio', 'Riviera', 'RL', 'RLX',\n",
              "       'Roadmaster', 'Rogue Select', 'Rogue', 'Rondo', 'Routan', 'RS 4',\n",
              "       'RS 5', 'RS 6', 'RS 7', 'RSX', 'RX 300', 'RX 330', 'RX 350',\n",
              "       'RX 400h', 'RX 450h', 'RX-7', 'RX-8', 'S-10 Blazer', 'S-10',\n",
              "       'S-15 Jimmy', 'S-15', 'S-Class', 'S2000', 'S3', 'S40', 'S4', 'S5',\n",
              "       'S60 Cross Country', 'S60', 'S6', 'S70', 'S7', 'S80', 'S8', 'S90',\n",
              "       'Safari Cargo', 'Safari', 'Samurai', 'Santa Fe Sport', 'Santa Fe',\n",
              "       'Savana Cargo', 'Savana', 'SC 300', 'SC 400', 'SC 430', 'Scoupe',\n",
              "       'Sebring', 'Sedona', 'Sentra', 'Sephia', 'Sequoia', 'Seville',\n",
              "       'Shadow', 'Shelby GT350', 'Shelby GT500', 'Sidekick', 'Sienna',\n",
              "       'Sierra 1500 Classic', 'Sierra 1500 Hybrid', 'Sierra 1500',\n",
              "       'Sierra 1500HD', 'Sierra C3', 'Sierra Classic 1500', 'Sigma',\n",
              "       'Silhouette', 'Silver Seraph', 'Silverado 1500 Classic',\n",
              "       'Silverado 1500 Hybrid', 'Silverado 1500', 'Sixty Special',\n",
              "       'Skylark', 'SL-Class', 'SLC-Class', 'SLK-Class', 'SLR McLaren',\n",
              "       'SLS AMG GT Final Edition', 'SLS AMG GT', 'SLS AMG', 'SLX',\n",
              "       'Solstice', 'Sonata Hybrid', 'Sonata', 'Sonic', 'Sonoma',\n",
              "       'Sorento', 'Soul EV', 'Soul', 'Spark EV', 'Spark', 'Spectra',\n",
              "       'Spirit', 'Sportage', 'Sportvan', 'Spyder', 'SQ5', 'SRT Viper',\n",
              "       'SRX', 'SS', 'SSR', 'Stanza', 'Stealth', 'Stratus', 'STS-V', 'STS',\n",
              "       'Suburban', 'Sunbird', 'Sundance', 'Sunfire', 'Superamerica',\n",
              "       'Supersports Convertible ISR', 'Supra', 'SVX', 'Swift', 'SX4',\n",
              "       'Syclone', 'T100', 'Tacoma', 'Tahoe Hybrid', 'Tahoe Limited/Z71',\n",
              "       'Tahoe', 'Taurus X', 'Taurus', 'TC', 'tC', 'Tempo', 'Tercel',\n",
              "       'Terrain', 'Terraza', 'Thunderbird', 'Tiburon', 'Tiguan', 'Titan',\n",
              "       'TL', 'TLX', 'Toronado', 'Torrent', 'Touareg 2', 'Touareg',\n",
              "       'Town and Country', 'Town Car', 'Tracker', 'TrailBlazer EXT',\n",
              "       'TrailBlazer', 'Trans Sport', 'Transit Connect', 'Transit Wagon',\n",
              "       'Traverse', 'Trax', 'Tribeca', 'Tribute Hybrid', 'Tribute',\n",
              "       'Truck', 'TSX Sport Wagon', 'TSX', 'TT RS', 'TT', 'TTS', 'Tucson',\n",
              "       'Tundra', 'Typhoon', 'Uplander', 'V12 Vanquish', 'V12 Vantage S',\n",
              "       'V12 Vantage', 'V40', 'V50', 'V60 Cross Country', 'V60', 'V70',\n",
              "       'V8 Vantage', 'V8', 'V90', 'Vanagon', 'Vandura', 'Van', 'Vanquish',\n",
              "       'Vanwagon', 'Veloster', 'Venture', 'Venza', 'Veracruz', 'Verano',\n",
              "       'Verona', 'Versa Note', 'Versa', 'Veyron 16.4', 'Vibe', 'Vigor',\n",
              "       'Viper', 'Virage', 'Vitara', 'Voyager', 'Windstar Cargo',\n",
              "       'Windstar', 'Wraith', 'WRX', 'X-90', 'X1', 'X3', 'X4', 'X5 M',\n",
              "       'X5', 'X6 M', 'X6', 'xA', 'xB', 'XC60', 'XC70', 'XC90', 'XC', 'xD',\n",
              "       'XG300', 'XG350', 'XL-7', 'XL7', 'XLR-V', 'XLR', 'XT5', 'Xterra',\n",
              "       'XTS', 'XT', 'XV Crosstrek', 'Yaris iA', 'Yaris', 'Yukon Denali',\n",
              "       'Yukon Hybrid', 'Yukon XL', 'Yukon', 'Z3', 'Z4 M', 'Z4', 'Z8',\n",
              "       'ZDX', 'Zephyr'], dtype=object)"
            ]
          },
          "metadata": {},
          "execution_count": 23
        }
      ]
    },
    {
      "cell_type": "code",
      "source": [
        "data['Model']=label_encoder.fit_transform(data['Model'])"
      ],
      "metadata": {
        "id": "gUTkt6EBPQmu"
      },
      "execution_count": 24,
      "outputs": []
    },
    {
      "cell_type": "code",
      "source": [
        "data['Model'].unique()"
      ],
      "metadata": {
        "colab": {
          "base_uri": "https://localhost:8080/"
        },
        "id": "B-Z2oBQ7P8Al",
        "outputId": "8c16e67f-87f2-4460-cb7c-5ada14be9d1a"
      },
      "execution_count": 25,
      "outputs": [
        {
          "output_type": "execute_result",
          "data": {
            "text/plain": [
              "array([  1,   0,   2,   3,   4,   6,   7,   8,  10,   9,   5,  13,  12,\n",
              "        15,  16,  14,  17,  18,  19,  20,  21,  22,  23,  11,  25,  24,\n",
              "        26,  27,  28,  29,  30,  31,  34,  33,  36,  39,  35,  37,  38,\n",
              "        40,  41,  43,  44,  42,  45,  32,  48,  47,  49,  50,  51,  53,\n",
              "        52,  54,  55,  46,  56,  57,  58,  59,  60,  61,  62,  63,  64,\n",
              "        65,  67,  66,  68,  69,  70,  73,  72,  71,  74,  75,  76,  77,\n",
              "        78,  79,  80,  81,  83,  82,  84,  85,  86,  87,  95,  94,  96,\n",
              "        97,  99, 100, 101,  98, 102, 103, 104, 105, 106, 107, 108, 109,\n",
              "       904, 903,  88,  89, 110, 112, 111, 113,  90, 114, 115, 116, 117,\n",
              "       119, 118,  92,  93,  91, 120, 121, 123, 122, 124, 125, 126, 127,\n",
              "       128, 129, 130, 132, 131, 133, 135, 136, 134, 137, 139, 141, 140,\n",
              "       142, 143, 144, 145, 146, 147, 148, 149, 150, 151, 153, 152, 154,\n",
              "       155, 138, 156, 157, 160, 161, 162, 163, 164, 186, 185, 187, 188,\n",
              "       190, 189, 191, 193, 194, 192, 195, 196, 197, 198, 199, 200, 201,\n",
              "       202, 203, 205, 204, 165, 206, 207, 208, 209, 210, 211, 212, 213,\n",
              "       214, 216, 217, 215, 158, 159, 167, 168, 166, 218, 169, 170, 219,\n",
              "       220, 221, 222, 225, 224, 228, 227, 229, 226, 231, 230, 233, 232,\n",
              "       223, 235, 234, 236, 238, 237, 239, 240, 242, 241, 243, 171, 172,\n",
              "       244, 245, 246, 247, 248, 250, 249, 173, 174, 176, 179, 180, 178,\n",
              "       177, 175, 251, 252, 254, 255, 256, 253, 181, 182, 183, 184, 262,\n",
              "       263, 264, 265, 257, 259, 258, 260, 267, 266, 268, 269, 271, 272,\n",
              "       270, 261, 273, 274, 275, 276, 277, 905, 278, 279, 280, 281, 290,\n",
              "       289, 291, 293, 292, 295, 296, 297, 294, 298, 299, 300, 301, 302,\n",
              "       303, 304, 305, 306, 308, 309, 307, 310, 311, 312, 313, 314, 282,\n",
              "       284, 283, 285, 286, 316, 317, 318, 315, 320, 319, 321, 322, 323,\n",
              "       324, 325, 327, 326, 288, 328, 329, 287, 330, 333, 332, 331, 334,\n",
              "       336, 335, 338, 339, 337, 340, 341, 342, 350, 343, 351, 352, 354,\n",
              "       353, 355, 344, 356, 357, 358, 360, 361, 359, 362, 363, 364, 365,\n",
              "       345, 366, 367, 368, 369, 371, 370, 347, 348, 349, 346, 375, 372,\n",
              "       373, 374, 376, 378, 380, 381, 382, 379, 377, 383, 384, 386, 385,\n",
              "       409, 410, 412, 411, 413, 415, 414, 387, 388, 389, 391, 390, 392,\n",
              "       393, 394, 417, 418, 419, 420, 416, 424, 425, 426, 427, 428, 421,\n",
              "       423, 422, 395, 396, 397, 398, 399, 400, 401, 402, 404, 403, 405,\n",
              "       406, 407, 408, 429, 430, 431, 435, 434, 436, 432, 433, 437, 906,\n",
              "       438, 439, 907, 908, 441, 440, 450, 449, 451, 453, 452, 909, 454,\n",
              "       455, 456, 457, 910, 442, 444, 443, 445, 447, 446, 448, 458, 461,\n",
              "       462, 463, 460, 464, 465, 466, 467, 459, 468, 469, 485, 487, 488,\n",
              "       486, 489, 490, 491, 492, 493, 495, 496, 497, 494, 498, 470, 471,\n",
              "       499, 472, 473, 474, 476, 477, 478, 479, 475, 480, 481, 500, 502,\n",
              "       501, 482, 483, 484, 504, 505, 507, 508, 509, 506, 511, 512, 510,\n",
              "       514, 513, 516, 515, 532, 533, 535, 536, 537, 538, 534, 539, 541,\n",
              "       540, 542, 543, 544, 545, 546, 547, 548, 503, 517, 549, 550, 551,\n",
              "       552, 554, 553, 518, 519, 520, 521, 523, 522, 524, 555, 556, 558,\n",
              "       557, 559, 561, 560, 525, 526, 528, 527, 562, 564, 563, 565, 567,\n",
              "       566, 529, 530, 531, 573, 574, 575, 576, 577, 578, 579, 568, 569,\n",
              "       571, 572, 570, 580, 581, 583, 582, 584, 586, 585, 588, 589, 590,\n",
              "       591, 592, 593, 594, 595, 596, 598, 599, 597, 600, 601, 602, 603,\n",
              "       604, 607, 606, 608, 605, 609, 610, 612, 611, 613, 587, 614, 615,\n",
              "       616, 617, 619, 618, 620, 621, 623, 622, 631, 632, 625, 626, 627,\n",
              "       628, 629, 630, 624, 633, 634, 635, 660, 661, 662, 663, 636, 637,\n",
              "       664, 665, 666, 667, 668, 669, 671, 672, 670, 673, 675, 674, 639,\n",
              "       640, 638, 641, 642, 643, 644, 645, 676, 677, 678, 679, 680, 681,\n",
              "       682, 683, 684, 646, 647, 685, 687, 686, 688, 689, 648, 649, 650,\n",
              "       651, 652, 653, 654, 655, 656, 657, 658, 659, 691, 690, 693, 692,\n",
              "       694, 695, 696, 698, 697, 699, 702, 701, 700, 704, 703, 706, 705,\n",
              "       707, 729, 728, 730, 732, 731, 734, 733, 708, 709, 710, 735, 736,\n",
              "       737, 738, 739, 740, 741, 742, 743, 744, 745, 746, 748, 749, 747,\n",
              "       750, 751, 752, 753, 754, 755, 757, 758, 756, 759, 760, 711, 712,\n",
              "       713, 714, 717, 716, 715, 718, 761, 763, 762, 764, 765, 766, 768,\n",
              "       767, 770, 769, 771, 772, 773, 774, 775, 719, 720, 721, 722, 723,\n",
              "       776, 777, 778, 725, 724, 779, 780, 781, 782, 783, 784, 785, 726,\n",
              "       786, 727, 787, 788, 797, 799, 800, 798, 802, 801, 789, 911, 803,\n",
              "       804, 805, 806, 807, 808, 809, 810, 790, 791, 811, 812, 814, 813,\n",
              "       816, 815, 817, 819, 818, 820, 821, 822, 823, 824, 825, 827, 826,\n",
              "       828, 793, 792, 795, 794, 796, 829, 830, 831, 832, 833, 835, 834,\n",
              "       836, 837, 839, 838, 840, 842, 841, 843, 845, 846, 844, 847, 848,\n",
              "       849, 850, 851, 852, 853, 854, 856, 855, 857, 858, 859, 860, 861,\n",
              "       862, 863, 866, 865, 867, 864, 868, 869, 870, 871, 873, 872, 875,\n",
              "       874, 912, 913, 877, 878, 879, 876, 914, 880, 881, 882, 883, 885,\n",
              "       884, 887, 890, 888, 886, 889, 892, 891, 894, 895, 896, 893, 897,\n",
              "       899, 898, 900, 901, 902])"
            ]
          },
          "metadata": {},
          "execution_count": 25
        }
      ]
    },
    {
      "cell_type": "code",
      "source": [
        "data['Transmission Type'].unique()"
      ],
      "metadata": {
        "colab": {
          "base_uri": "https://localhost:8080/"
        },
        "id": "hSBS96JZP_t9",
        "outputId": "41b8a649-0d2b-43ad-fb0d-dd5925e12792"
      },
      "execution_count": 27,
      "outputs": [
        {
          "output_type": "execute_result",
          "data": {
            "text/plain": [
              "array(['MANUAL', 'AUTOMATIC', 'AUTOMATED_MANUAL', 'DIRECT_DRIVE',\n",
              "       'UNKNOWN'], dtype=object)"
            ]
          },
          "metadata": {},
          "execution_count": 27
        }
      ]
    },
    {
      "cell_type": "code",
      "source": [
        "data['Transmission Type']=label_encoder.fit_transform(data['Transmission Type'])"
      ],
      "metadata": {
        "id": "vtsjKtJnQSwg"
      },
      "execution_count": 28,
      "outputs": []
    },
    {
      "cell_type": "code",
      "source": [
        "data['Transmission Type'].unique()"
      ],
      "metadata": {
        "colab": {
          "base_uri": "https://localhost:8080/"
        },
        "id": "fu_sW77fQuca",
        "outputId": "55cf0efc-5362-4226-d21e-adaa65e74899"
      },
      "execution_count": 29,
      "outputs": [
        {
          "output_type": "execute_result",
          "data": {
            "text/plain": [
              "array([3, 1, 0, 2, 4])"
            ]
          },
          "metadata": {},
          "execution_count": 29
        }
      ]
    },
    {
      "cell_type": "code",
      "source": [
        "data['Driven_Wheels'].unique()"
      ],
      "metadata": {
        "colab": {
          "base_uri": "https://localhost:8080/"
        },
        "id": "hjaGl7oXQ-xb",
        "outputId": "bbcdb4fb-a879-4bfc-a092-799c1cbc29c5"
      },
      "execution_count": 30,
      "outputs": [
        {
          "output_type": "execute_result",
          "data": {
            "text/plain": [
              "array(['rear wheel drive', 'front wheel drive', 'all wheel drive',\n",
              "       'four wheel drive'], dtype=object)"
            ]
          },
          "metadata": {},
          "execution_count": 30
        }
      ]
    },
    {
      "cell_type": "code",
      "source": [
        "data['Driven_Wheels']=label_encoder.fit_transform(data['Driven_Wheels'])"
      ],
      "metadata": {
        "id": "xfQwQFsKQyjv"
      },
      "execution_count": 32,
      "outputs": []
    },
    {
      "cell_type": "code",
      "source": [
        "data['Driven_Wheels'].unique()"
      ],
      "metadata": {
        "colab": {
          "base_uri": "https://localhost:8080/"
        },
        "id": "j-o2tuiaRIP-",
        "outputId": "e90a47ae-b3de-4ff4-ebe2-0f672dba3ccd"
      },
      "execution_count": 33,
      "outputs": [
        {
          "output_type": "execute_result",
          "data": {
            "text/plain": [
              "array([3, 2, 0, 1])"
            ]
          },
          "metadata": {},
          "execution_count": 33
        }
      ]
    },
    {
      "cell_type": "code",
      "source": [
        "data['Market Category'].unique()"
      ],
      "metadata": {
        "colab": {
          "base_uri": "https://localhost:8080/"
        },
        "id": "d0BtfqVfRLxe",
        "outputId": "92d34753-ddbc-4ec0-8658-8b1cffdbac65"
      },
      "execution_count": 34,
      "outputs": [
        {
          "output_type": "execute_result",
          "data": {
            "text/plain": [
              "array(['Factory Tuner,Luxury,High-Performance', 'Luxury,Performance',\n",
              "       'Luxury,High-Performance', 'Luxury', 'Performance', 'Flex Fuel',\n",
              "       'Flex Fuel,Performance', nan, 'Hatchback',\n",
              "       'Hatchback,Luxury,Performance', 'Hatchback,Luxury',\n",
              "       'Luxury,High-Performance,Hybrid', 'Diesel,Luxury',\n",
              "       'Hatchback,Performance', 'Hatchback,Factory Tuner,Performance',\n",
              "       'High-Performance', 'Factory Tuner,High-Performance',\n",
              "       'Exotic,High-Performance', 'Exotic,Factory Tuner,High-Performance',\n",
              "       'Factory Tuner,Performance', 'Crossover', 'Exotic,Luxury',\n",
              "       'Exotic,Luxury,High-Performance', 'Exotic,Luxury,Performance',\n",
              "       'Factory Tuner,Luxury,Performance', 'Flex Fuel,Luxury',\n",
              "       'Crossover,Luxury', 'Hatchback,Factory Tuner,Luxury,Performance',\n",
              "       'Crossover,Hatchback', 'Hybrid', 'Luxury,Performance,Hybrid',\n",
              "       'Crossover,Luxury,Performance,Hybrid',\n",
              "       'Crossover,Luxury,Performance',\n",
              "       'Exotic,Factory Tuner,Luxury,High-Performance',\n",
              "       'Flex Fuel,Luxury,High-Performance', 'Crossover,Flex Fuel',\n",
              "       'Diesel', 'Hatchback,Diesel', 'Crossover,Luxury,Diesel',\n",
              "       'Crossover,Luxury,High-Performance',\n",
              "       'Exotic,Flex Fuel,Factory Tuner,Luxury,High-Performance',\n",
              "       'Exotic,Flex Fuel,Luxury,High-Performance',\n",
              "       'Exotic,Factory Tuner,Luxury,Performance', 'Hatchback,Hybrid',\n",
              "       'Crossover,Hybrid', 'Hatchback,Luxury,Hybrid',\n",
              "       'Flex Fuel,Luxury,Performance', 'Crossover,Performance',\n",
              "       'Luxury,Hybrid', 'Crossover,Flex Fuel,Luxury,Performance',\n",
              "       'Crossover,Flex Fuel,Luxury', 'Crossover,Flex Fuel,Performance',\n",
              "       'Hatchback,Factory Tuner,High-Performance', 'Hatchback,Flex Fuel',\n",
              "       'Factory Tuner,Luxury',\n",
              "       'Crossover,Factory Tuner,Luxury,High-Performance',\n",
              "       'Crossover,Factory Tuner,Luxury,Performance',\n",
              "       'Crossover,Hatchback,Factory Tuner,Performance',\n",
              "       'Crossover,Hatchback,Performance', 'Flex Fuel,Hybrid',\n",
              "       'Flex Fuel,Performance,Hybrid',\n",
              "       'Crossover,Exotic,Luxury,High-Performance',\n",
              "       'Crossover,Exotic,Luxury,Performance', 'Exotic,Performance',\n",
              "       'Exotic,Luxury,High-Performance,Hybrid', 'Crossover,Luxury,Hybrid',\n",
              "       'Flex Fuel,Factory Tuner,Luxury,High-Performance',\n",
              "       'Performance,Hybrid', 'Crossover,Factory Tuner,Performance',\n",
              "       'Crossover,Diesel', 'Flex Fuel,Diesel',\n",
              "       'Crossover,Hatchback,Luxury'], dtype=object)"
            ]
          },
          "metadata": {},
          "execution_count": 34
        }
      ]
    },
    {
      "cell_type": "code",
      "source": [
        "data['Market Category']=label_encoder.fit_transform(data['Market Category'])"
      ],
      "metadata": {
        "id": "B-5gO0GDRkMQ"
      },
      "execution_count": 36,
      "outputs": []
    },
    {
      "cell_type": "code",
      "source": [
        "data['Market Category'].unique()"
      ],
      "metadata": {
        "colab": {
          "base_uri": "https://localhost:8080/"
        },
        "id": "20PzTgiPRuip",
        "outputId": "df4b5c39-8c1f-477b-c131-b4db2da3a683"
      },
      "execution_count": 37,
      "outputs": [
        {
          "output_type": "execute_result",
          "data": {
            "text/plain": [
              "array([38, 67, 64, 63, 69, 41, 48, 71, 50, 59, 57, 65, 24, 60, 54, 61, 36,\n",
              "       30, 25, 40,  0, 31, 32, 34, 39, 45, 16, 53, 11, 62, 68, 21, 20, 26,\n",
              "       46,  7, 23, 51, 17, 18, 28, 29, 27, 56, 15, 58, 47, 22, 66,  9,  8,\n",
              "       10, 52, 55, 37,  4,  5, 12, 14, 44, 49,  2,  3, 35, 33, 19, 43, 70,\n",
              "        6,  1, 42, 13])"
            ]
          },
          "metadata": {},
          "execution_count": 37
        }
      ]
    },
    {
      "cell_type": "code",
      "source": [
        "data['Vehicle Size'].unique()"
      ],
      "metadata": {
        "colab": {
          "base_uri": "https://localhost:8080/"
        },
        "id": "bsV-dXOOR2Yy",
        "outputId": "78409a12-1bcb-4144-f303-78284be797f6"
      },
      "execution_count": 38,
      "outputs": [
        {
          "output_type": "execute_result",
          "data": {
            "text/plain": [
              "array(['Compact', 'Midsize', 'Large'], dtype=object)"
            ]
          },
          "metadata": {},
          "execution_count": 38
        }
      ]
    },
    {
      "cell_type": "code",
      "source": [
        "data['Vehicle Size']=label_encoder.fit_transform(data['Vehicle Size'])"
      ],
      "metadata": {
        "id": "DidrlfqMSa2F"
      },
      "execution_count": 39,
      "outputs": []
    },
    {
      "cell_type": "code",
      "source": [
        "data['Vehicle Size'].unique()"
      ],
      "metadata": {
        "colab": {
          "base_uri": "https://localhost:8080/"
        },
        "id": "WeYx_pHTShkI",
        "outputId": "a2f81f99-2d29-4cb5-e4d8-8bdd4dd473cb"
      },
      "execution_count": 40,
      "outputs": [
        {
          "output_type": "execute_result",
          "data": {
            "text/plain": [
              "array([0, 2, 1])"
            ]
          },
          "metadata": {},
          "execution_count": 40
        }
      ]
    },
    {
      "cell_type": "code",
      "source": [
        "data['Vehicle Style'].unique()"
      ],
      "metadata": {
        "colab": {
          "base_uri": "https://localhost:8080/"
        },
        "id": "GOySC13ISkmt",
        "outputId": "21b58e35-da6f-40e9-8ee8-feb9434850f3"
      },
      "execution_count": 41,
      "outputs": [
        {
          "output_type": "execute_result",
          "data": {
            "text/plain": [
              "array(['Coupe', 'Convertible', 'Sedan', 'Wagon', '4dr Hatchback',\n",
              "       '2dr Hatchback', '4dr SUV', 'Passenger Minivan', 'Cargo Minivan',\n",
              "       'Crew Cab Pickup', 'Regular Cab Pickup', 'Extended Cab Pickup',\n",
              "       '2dr SUV', 'Cargo Van', 'Convertible SUV', 'Passenger Van'],\n",
              "      dtype=object)"
            ]
          },
          "metadata": {},
          "execution_count": 41
        }
      ]
    },
    {
      "cell_type": "code",
      "source": [
        "data['Vehicle Style']=label_encoder.fit_transform(data['Vehicle Style'])"
      ],
      "metadata": {
        "id": "hUmvHP-ESzqb"
      },
      "execution_count": 42,
      "outputs": []
    },
    {
      "cell_type": "code",
      "source": [
        "data['Vehicle Style'].unique()"
      ],
      "metadata": {
        "colab": {
          "base_uri": "https://localhost:8080/"
        },
        "id": "h-dWFRYRS7LM",
        "outputId": "c0fe7a25-b3b2-47d1-b0f4-1c0e05178e6e"
      },
      "execution_count": 43,
      "outputs": [
        {
          "output_type": "execute_result",
          "data": {
            "text/plain": [
              "array([ 8,  6, 14, 15,  2,  0,  3, 11,  4,  9, 13, 10,  1,  5,  7, 12])"
            ]
          },
          "metadata": {},
          "execution_count": 43
        }
      ]
    },
    {
      "cell_type": "code",
      "source": [
        "data.head()"
      ],
      "metadata": {
        "colab": {
          "base_uri": "https://localhost:8080/",
          "height": 260
        },
        "id": "66Gi-7b6S8sa",
        "outputId": "797e34bb-0caf-4b12-8528-c47cd27f35ff"
      },
      "execution_count": 44,
      "outputs": [
        {
          "output_type": "execute_result",
          "data": {
            "text/plain": [
              "   Make  Model  Year  Engine Fuel Type  Engine HP  Engine Cylinders  \\\n",
              "0     4      1  2011                 8      335.0               6.0   \n",
              "1     4      0  2011                 8      300.0               6.0   \n",
              "2     4      0  2011                 8      300.0               6.0   \n",
              "3     4      0  2011                 8      230.0               6.0   \n",
              "4     4      0  2011                 8      230.0               6.0   \n",
              "\n",
              "   Transmission Type  Driven_Wheels  Number of Doors  Market Category  \\\n",
              "0                  3              3              2.0               38   \n",
              "1                  3              3              2.0               67   \n",
              "2                  3              3              2.0               64   \n",
              "3                  3              3              2.0               67   \n",
              "4                  3              3              2.0               63   \n",
              "\n",
              "   Vehicle Size  Vehicle Style  highway MPG  city mpg  Popularity   MSRP  \n",
              "0             0              8           26        19        3916  46135  \n",
              "1             0              6           28        19        3916  40650  \n",
              "2             0              8           28        20        3916  36350  \n",
              "3             0              8           28        18        3916  29450  \n",
              "4             0              6           28        18        3916  34500  "
            ],
            "text/html": [
              "\n",
              "  <div id=\"df-a8892963-a4a4-422a-9a37-8866bf254351\" class=\"colab-df-container\">\n",
              "    <div>\n",
              "<style scoped>\n",
              "    .dataframe tbody tr th:only-of-type {\n",
              "        vertical-align: middle;\n",
              "    }\n",
              "\n",
              "    .dataframe tbody tr th {\n",
              "        vertical-align: top;\n",
              "    }\n",
              "\n",
              "    .dataframe thead th {\n",
              "        text-align: right;\n",
              "    }\n",
              "</style>\n",
              "<table border=\"1\" class=\"dataframe\">\n",
              "  <thead>\n",
              "    <tr style=\"text-align: right;\">\n",
              "      <th></th>\n",
              "      <th>Make</th>\n",
              "      <th>Model</th>\n",
              "      <th>Year</th>\n",
              "      <th>Engine Fuel Type</th>\n",
              "      <th>Engine HP</th>\n",
              "      <th>Engine Cylinders</th>\n",
              "      <th>Transmission Type</th>\n",
              "      <th>Driven_Wheels</th>\n",
              "      <th>Number of Doors</th>\n",
              "      <th>Market Category</th>\n",
              "      <th>Vehicle Size</th>\n",
              "      <th>Vehicle Style</th>\n",
              "      <th>highway MPG</th>\n",
              "      <th>city mpg</th>\n",
              "      <th>Popularity</th>\n",
              "      <th>MSRP</th>\n",
              "    </tr>\n",
              "  </thead>\n",
              "  <tbody>\n",
              "    <tr>\n",
              "      <th>0</th>\n",
              "      <td>4</td>\n",
              "      <td>1</td>\n",
              "      <td>2011</td>\n",
              "      <td>8</td>\n",
              "      <td>335.0</td>\n",
              "      <td>6.0</td>\n",
              "      <td>3</td>\n",
              "      <td>3</td>\n",
              "      <td>2.0</td>\n",
              "      <td>38</td>\n",
              "      <td>0</td>\n",
              "      <td>8</td>\n",
              "      <td>26</td>\n",
              "      <td>19</td>\n",
              "      <td>3916</td>\n",
              "      <td>46135</td>\n",
              "    </tr>\n",
              "    <tr>\n",
              "      <th>1</th>\n",
              "      <td>4</td>\n",
              "      <td>0</td>\n",
              "      <td>2011</td>\n",
              "      <td>8</td>\n",
              "      <td>300.0</td>\n",
              "      <td>6.0</td>\n",
              "      <td>3</td>\n",
              "      <td>3</td>\n",
              "      <td>2.0</td>\n",
              "      <td>67</td>\n",
              "      <td>0</td>\n",
              "      <td>6</td>\n",
              "      <td>28</td>\n",
              "      <td>19</td>\n",
              "      <td>3916</td>\n",
              "      <td>40650</td>\n",
              "    </tr>\n",
              "    <tr>\n",
              "      <th>2</th>\n",
              "      <td>4</td>\n",
              "      <td>0</td>\n",
              "      <td>2011</td>\n",
              "      <td>8</td>\n",
              "      <td>300.0</td>\n",
              "      <td>6.0</td>\n",
              "      <td>3</td>\n",
              "      <td>3</td>\n",
              "      <td>2.0</td>\n",
              "      <td>64</td>\n",
              "      <td>0</td>\n",
              "      <td>8</td>\n",
              "      <td>28</td>\n",
              "      <td>20</td>\n",
              "      <td>3916</td>\n",
              "      <td>36350</td>\n",
              "    </tr>\n",
              "    <tr>\n",
              "      <th>3</th>\n",
              "      <td>4</td>\n",
              "      <td>0</td>\n",
              "      <td>2011</td>\n",
              "      <td>8</td>\n",
              "      <td>230.0</td>\n",
              "      <td>6.0</td>\n",
              "      <td>3</td>\n",
              "      <td>3</td>\n",
              "      <td>2.0</td>\n",
              "      <td>67</td>\n",
              "      <td>0</td>\n",
              "      <td>8</td>\n",
              "      <td>28</td>\n",
              "      <td>18</td>\n",
              "      <td>3916</td>\n",
              "      <td>29450</td>\n",
              "    </tr>\n",
              "    <tr>\n",
              "      <th>4</th>\n",
              "      <td>4</td>\n",
              "      <td>0</td>\n",
              "      <td>2011</td>\n",
              "      <td>8</td>\n",
              "      <td>230.0</td>\n",
              "      <td>6.0</td>\n",
              "      <td>3</td>\n",
              "      <td>3</td>\n",
              "      <td>2.0</td>\n",
              "      <td>63</td>\n",
              "      <td>0</td>\n",
              "      <td>6</td>\n",
              "      <td>28</td>\n",
              "      <td>18</td>\n",
              "      <td>3916</td>\n",
              "      <td>34500</td>\n",
              "    </tr>\n",
              "  </tbody>\n",
              "</table>\n",
              "</div>\n",
              "    <div class=\"colab-df-buttons\">\n",
              "\n",
              "  <div class=\"colab-df-container\">\n",
              "    <button class=\"colab-df-convert\" onclick=\"convertToInteractive('df-a8892963-a4a4-422a-9a37-8866bf254351')\"\n",
              "            title=\"Convert this dataframe to an interactive table.\"\n",
              "            style=\"display:none;\">\n",
              "\n",
              "  <svg xmlns=\"http://www.w3.org/2000/svg\" height=\"24px\" viewBox=\"0 -960 960 960\">\n",
              "    <path d=\"M120-120v-720h720v720H120Zm60-500h600v-160H180v160Zm220 220h160v-160H400v160Zm0 220h160v-160H400v160ZM180-400h160v-160H180v160Zm440 0h160v-160H620v160ZM180-180h160v-160H180v160Zm440 0h160v-160H620v160Z\"/>\n",
              "  </svg>\n",
              "    </button>\n",
              "\n",
              "  <style>\n",
              "    .colab-df-container {\n",
              "      display:flex;\n",
              "      gap: 12px;\n",
              "    }\n",
              "\n",
              "    .colab-df-convert {\n",
              "      background-color: #E8F0FE;\n",
              "      border: none;\n",
              "      border-radius: 50%;\n",
              "      cursor: pointer;\n",
              "      display: none;\n",
              "      fill: #1967D2;\n",
              "      height: 32px;\n",
              "      padding: 0 0 0 0;\n",
              "      width: 32px;\n",
              "    }\n",
              "\n",
              "    .colab-df-convert:hover {\n",
              "      background-color: #E2EBFA;\n",
              "      box-shadow: 0px 1px 2px rgba(60, 64, 67, 0.3), 0px 1px 3px 1px rgba(60, 64, 67, 0.15);\n",
              "      fill: #174EA6;\n",
              "    }\n",
              "\n",
              "    .colab-df-buttons div {\n",
              "      margin-bottom: 4px;\n",
              "    }\n",
              "\n",
              "    [theme=dark] .colab-df-convert {\n",
              "      background-color: #3B4455;\n",
              "      fill: #D2E3FC;\n",
              "    }\n",
              "\n",
              "    [theme=dark] .colab-df-convert:hover {\n",
              "      background-color: #434B5C;\n",
              "      box-shadow: 0px 1px 3px 1px rgba(0, 0, 0, 0.15);\n",
              "      filter: drop-shadow(0px 1px 2px rgba(0, 0, 0, 0.3));\n",
              "      fill: #FFFFFF;\n",
              "    }\n",
              "  </style>\n",
              "\n",
              "    <script>\n",
              "      const buttonEl =\n",
              "        document.querySelector('#df-a8892963-a4a4-422a-9a37-8866bf254351 button.colab-df-convert');\n",
              "      buttonEl.style.display =\n",
              "        google.colab.kernel.accessAllowed ? 'block' : 'none';\n",
              "\n",
              "      async function convertToInteractive(key) {\n",
              "        const element = document.querySelector('#df-a8892963-a4a4-422a-9a37-8866bf254351');\n",
              "        const dataTable =\n",
              "          await google.colab.kernel.invokeFunction('convertToInteractive',\n",
              "                                                    [key], {});\n",
              "        if (!dataTable) return;\n",
              "\n",
              "        const docLinkHtml = 'Like what you see? Visit the ' +\n",
              "          '<a target=\"_blank\" href=https://colab.research.google.com/notebooks/data_table.ipynb>data table notebook</a>'\n",
              "          + ' to learn more about interactive tables.';\n",
              "        element.innerHTML = '';\n",
              "        dataTable['output_type'] = 'display_data';\n",
              "        await google.colab.output.renderOutput(dataTable, element);\n",
              "        const docLink = document.createElement('div');\n",
              "        docLink.innerHTML = docLinkHtml;\n",
              "        element.appendChild(docLink);\n",
              "      }\n",
              "    </script>\n",
              "  </div>\n",
              "\n",
              "\n",
              "<div id=\"df-d222c429-31d9-43b6-bb44-445dbd3b8ae7\">\n",
              "  <button class=\"colab-df-quickchart\" onclick=\"quickchart('df-d222c429-31d9-43b6-bb44-445dbd3b8ae7')\"\n",
              "            title=\"Suggest charts\"\n",
              "            style=\"display:none;\">\n",
              "\n",
              "<svg xmlns=\"http://www.w3.org/2000/svg\" height=\"24px\"viewBox=\"0 0 24 24\"\n",
              "     width=\"24px\">\n",
              "    <g>\n",
              "        <path d=\"M19 3H5c-1.1 0-2 .9-2 2v14c0 1.1.9 2 2 2h14c1.1 0 2-.9 2-2V5c0-1.1-.9-2-2-2zM9 17H7v-7h2v7zm4 0h-2V7h2v10zm4 0h-2v-4h2v4z\"/>\n",
              "    </g>\n",
              "</svg>\n",
              "  </button>\n",
              "\n",
              "<style>\n",
              "  .colab-df-quickchart {\n",
              "      --bg-color: #E8F0FE;\n",
              "      --fill-color: #1967D2;\n",
              "      --hover-bg-color: #E2EBFA;\n",
              "      --hover-fill-color: #174EA6;\n",
              "      --disabled-fill-color: #AAA;\n",
              "      --disabled-bg-color: #DDD;\n",
              "  }\n",
              "\n",
              "  [theme=dark] .colab-df-quickchart {\n",
              "      --bg-color: #3B4455;\n",
              "      --fill-color: #D2E3FC;\n",
              "      --hover-bg-color: #434B5C;\n",
              "      --hover-fill-color: #FFFFFF;\n",
              "      --disabled-bg-color: #3B4455;\n",
              "      --disabled-fill-color: #666;\n",
              "  }\n",
              "\n",
              "  .colab-df-quickchart {\n",
              "    background-color: var(--bg-color);\n",
              "    border: none;\n",
              "    border-radius: 50%;\n",
              "    cursor: pointer;\n",
              "    display: none;\n",
              "    fill: var(--fill-color);\n",
              "    height: 32px;\n",
              "    padding: 0;\n",
              "    width: 32px;\n",
              "  }\n",
              "\n",
              "  .colab-df-quickchart:hover {\n",
              "    background-color: var(--hover-bg-color);\n",
              "    box-shadow: 0 1px 2px rgba(60, 64, 67, 0.3), 0 1px 3px 1px rgba(60, 64, 67, 0.15);\n",
              "    fill: var(--button-hover-fill-color);\n",
              "  }\n",
              "\n",
              "  .colab-df-quickchart-complete:disabled,\n",
              "  .colab-df-quickchart-complete:disabled:hover {\n",
              "    background-color: var(--disabled-bg-color);\n",
              "    fill: var(--disabled-fill-color);\n",
              "    box-shadow: none;\n",
              "  }\n",
              "\n",
              "  .colab-df-spinner {\n",
              "    border: 2px solid var(--fill-color);\n",
              "    border-color: transparent;\n",
              "    border-bottom-color: var(--fill-color);\n",
              "    animation:\n",
              "      spin 1s steps(1) infinite;\n",
              "  }\n",
              "\n",
              "  @keyframes spin {\n",
              "    0% {\n",
              "      border-color: transparent;\n",
              "      border-bottom-color: var(--fill-color);\n",
              "      border-left-color: var(--fill-color);\n",
              "    }\n",
              "    20% {\n",
              "      border-color: transparent;\n",
              "      border-left-color: var(--fill-color);\n",
              "      border-top-color: var(--fill-color);\n",
              "    }\n",
              "    30% {\n",
              "      border-color: transparent;\n",
              "      border-left-color: var(--fill-color);\n",
              "      border-top-color: var(--fill-color);\n",
              "      border-right-color: var(--fill-color);\n",
              "    }\n",
              "    40% {\n",
              "      border-color: transparent;\n",
              "      border-right-color: var(--fill-color);\n",
              "      border-top-color: var(--fill-color);\n",
              "    }\n",
              "    60% {\n",
              "      border-color: transparent;\n",
              "      border-right-color: var(--fill-color);\n",
              "    }\n",
              "    80% {\n",
              "      border-color: transparent;\n",
              "      border-right-color: var(--fill-color);\n",
              "      border-bottom-color: var(--fill-color);\n",
              "    }\n",
              "    90% {\n",
              "      border-color: transparent;\n",
              "      border-bottom-color: var(--fill-color);\n",
              "    }\n",
              "  }\n",
              "</style>\n",
              "\n",
              "  <script>\n",
              "    async function quickchart(key) {\n",
              "      const quickchartButtonEl =\n",
              "        document.querySelector('#' + key + ' button');\n",
              "      quickchartButtonEl.disabled = true;  // To prevent multiple clicks.\n",
              "      quickchartButtonEl.classList.add('colab-df-spinner');\n",
              "      try {\n",
              "        const charts = await google.colab.kernel.invokeFunction(\n",
              "            'suggestCharts', [key], {});\n",
              "      } catch (error) {\n",
              "        console.error('Error during call to suggestCharts:', error);\n",
              "      }\n",
              "      quickchartButtonEl.classList.remove('colab-df-spinner');\n",
              "      quickchartButtonEl.classList.add('colab-df-quickchart-complete');\n",
              "    }\n",
              "    (() => {\n",
              "      let quickchartButtonEl =\n",
              "        document.querySelector('#df-d222c429-31d9-43b6-bb44-445dbd3b8ae7 button');\n",
              "      quickchartButtonEl.style.display =\n",
              "        google.colab.kernel.accessAllowed ? 'block' : 'none';\n",
              "    })();\n",
              "  </script>\n",
              "</div>\n",
              "\n",
              "    </div>\n",
              "  </div>\n"
            ],
            "application/vnd.google.colaboratory.intrinsic+json": {
              "type": "dataframe",
              "variable_name": "data",
              "summary": "{\n  \"name\": \"data\",\n  \"rows\": 11914,\n  \"fields\": [\n    {\n      \"column\": \"Make\",\n      \"properties\": {\n        \"dtype\": \"number\",\n        \"std\": 14,\n        \"min\": 0,\n        \"max\": 47,\n        \"num_unique_values\": 48,\n        \"samples\": [\n          9,\n          23,\n          5\n        ],\n        \"semantic_type\": \"\",\n        \"description\": \"\"\n      }\n    },\n    {\n      \"column\": \"Model\",\n      \"properties\": {\n        \"dtype\": \"number\",\n        \"std\": 269,\n        \"min\": 0,\n        \"max\": 914,\n        \"num_unique_values\": 915,\n        \"samples\": [\n          378,\n          844,\n          357\n        ],\n        \"semantic_type\": \"\",\n        \"description\": \"\"\n      }\n    },\n    {\n      \"column\": \"Year\",\n      \"properties\": {\n        \"dtype\": \"number\",\n        \"std\": 7,\n        \"min\": 1990,\n        \"max\": 2017,\n        \"num_unique_values\": 28,\n        \"samples\": [\n          1990,\n          2000,\n          2016\n        ],\n        \"semantic_type\": \"\",\n        \"description\": \"\"\n      }\n    },\n    {\n      \"column\": \"Engine Fuel Type\",\n      \"properties\": {\n        \"dtype\": \"number\",\n        \"std\": 1,\n        \"min\": 0,\n        \"max\": 10,\n        \"num_unique_values\": 11,\n        \"samples\": [\n          1,\n          8,\n          5\n        ],\n        \"semantic_type\": \"\",\n        \"description\": \"\"\n      }\n    },\n    {\n      \"column\": \"Engine HP\",\n      \"properties\": {\n        \"dtype\": \"number\",\n        \"std\": 109.19187025917206,\n        \"min\": 55.0,\n        \"max\": 1001.0,\n        \"num_unique_values\": 356,\n        \"samples\": [\n          145.0,\n          201.0,\n          219.0\n        ],\n        \"semantic_type\": \"\",\n        \"description\": \"\"\n      }\n    },\n    {\n      \"column\": \"Engine Cylinders\",\n      \"properties\": {\n        \"dtype\": \"number\",\n        \"std\": 1.780559348246223,\n        \"min\": 0.0,\n        \"max\": 16.0,\n        \"num_unique_values\": 9,\n        \"samples\": [\n          3.0,\n          4.0,\n          0.0\n        ],\n        \"semantic_type\": \"\",\n        \"description\": \"\"\n      }\n    },\n    {\n      \"column\": \"Transmission Type\",\n      \"properties\": {\n        \"dtype\": \"number\",\n        \"std\": 0,\n        \"min\": 0,\n        \"max\": 4,\n        \"num_unique_values\": 5,\n        \"samples\": [\n          1,\n          4,\n          0\n        ],\n        \"semantic_type\": \"\",\n        \"description\": \"\"\n      }\n    },\n    {\n      \"column\": \"Driven_Wheels\",\n      \"properties\": {\n        \"dtype\": \"number\",\n        \"std\": 1,\n        \"min\": 0,\n        \"max\": 3,\n        \"num_unique_values\": 4,\n        \"samples\": [\n          2,\n          1,\n          3\n        ],\n        \"semantic_type\": \"\",\n        \"description\": \"\"\n      }\n    },\n    {\n      \"column\": \"Number of Doors\",\n      \"properties\": {\n        \"dtype\": \"number\",\n        \"std\": 0.8813153865835543,\n        \"min\": 2.0,\n        \"max\": 4.0,\n        \"num_unique_values\": 3,\n        \"samples\": [\n          2.0,\n          4.0,\n          3.0\n        ],\n        \"semantic_type\": \"\",\n        \"description\": \"\"\n      }\n    },\n    {\n      \"column\": \"Market Category\",\n      \"properties\": {\n        \"dtype\": \"number\",\n        \"std\": 23,\n        \"min\": 0,\n        \"max\": 71,\n        \"num_unique_values\": 72,\n        \"samples\": [\n          69,\n          3,\n          25\n        ],\n        \"semantic_type\": \"\",\n        \"description\": \"\"\n      }\n    },\n    {\n      \"column\": \"Vehicle Size\",\n      \"properties\": {\n        \"dtype\": \"number\",\n        \"std\": 0,\n        \"min\": 0,\n        \"max\": 2,\n        \"num_unique_values\": 3,\n        \"samples\": [\n          0,\n          2,\n          1\n        ],\n        \"semantic_type\": \"\",\n        \"description\": \"\"\n      }\n    },\n    {\n      \"column\": \"Vehicle Style\",\n      \"properties\": {\n        \"dtype\": \"number\",\n        \"std\": 4,\n        \"min\": 0,\n        \"max\": 15,\n        \"num_unique_values\": 16,\n        \"samples\": [\n          8,\n          6,\n          0\n        ],\n        \"semantic_type\": \"\",\n        \"description\": \"\"\n      }\n    },\n    {\n      \"column\": \"highway MPG\",\n      \"properties\": {\n        \"dtype\": \"number\",\n        \"std\": 8,\n        \"min\": 12,\n        \"max\": 354,\n        \"num_unique_values\": 59,\n        \"samples\": [\n          26,\n          20,\n          354\n        ],\n        \"semantic_type\": \"\",\n        \"description\": \"\"\n      }\n    },\n    {\n      \"column\": \"city mpg\",\n      \"properties\": {\n        \"dtype\": \"number\",\n        \"std\": 8,\n        \"min\": 7,\n        \"max\": 137,\n        \"num_unique_values\": 69,\n        \"samples\": [\n          9,\n          19,\n          41\n        ],\n        \"semantic_type\": \"\",\n        \"description\": \"\"\n      }\n    },\n    {\n      \"column\": \"Popularity\",\n      \"properties\": {\n        \"dtype\": \"number\",\n        \"std\": 1441,\n        \"min\": 2,\n        \"max\": 5657,\n        \"num_unique_values\": 48,\n        \"samples\": [\n          1385,\n          258,\n          520\n        ],\n        \"semantic_type\": \"\",\n        \"description\": \"\"\n      }\n    },\n    {\n      \"column\": \"MSRP\",\n      \"properties\": {\n        \"dtype\": \"number\",\n        \"std\": 60109,\n        \"min\": 2000,\n        \"max\": 2065902,\n        \"num_unique_values\": 6049,\n        \"samples\": [\n          42610,\n          32030,\n          89995\n        ],\n        \"semantic_type\": \"\",\n        \"description\": \"\"\n      }\n    }\n  ]\n}"
            }
          },
          "metadata": {},
          "execution_count": 44
        }
      ]
    },
    {
      "cell_type": "code",
      "source": [
        "#checking for null values in the dataset\n",
        "data.isnull().sum()"
      ],
      "metadata": {
        "colab": {
          "base_uri": "https://localhost:8080/"
        },
        "id": "OmTf1JQGTCUb",
        "outputId": "981beb33-50bf-46eb-e3c7-fed712338b4b"
      },
      "execution_count": 45,
      "outputs": [
        {
          "output_type": "execute_result",
          "data": {
            "text/plain": [
              "Make                  0\n",
              "Model                 0\n",
              "Year                  0\n",
              "Engine Fuel Type      0\n",
              "Engine HP            69\n",
              "Engine Cylinders     30\n",
              "Transmission Type     0\n",
              "Driven_Wheels         0\n",
              "Number of Doors       6\n",
              "Market Category       0\n",
              "Vehicle Size          0\n",
              "Vehicle Style         0\n",
              "highway MPG           0\n",
              "city mpg              0\n",
              "Popularity            0\n",
              "MSRP                  0\n",
              "dtype: int64"
            ]
          },
          "metadata": {},
          "execution_count": 45
        }
      ]
    },
    {
      "cell_type": "code",
      "source": [
        "data['Engine HP']=data['Engine HP'].fillna(data['Engine HP'].mode()[0])\n",
        "data['Engine Cylinders']=data['Engine Cylinders'].fillna(data['Engine Cylinders'].mode()[0])\n",
        "data['Number of Doors']=data['Number of Doors'].fillna(data['Number of Doors'].mode()[0])"
      ],
      "metadata": {
        "id": "NSof8y8ITWc7"
      },
      "execution_count": 46,
      "outputs": []
    },
    {
      "cell_type": "code",
      "source": [
        "data.isnull().sum()"
      ],
      "metadata": {
        "colab": {
          "base_uri": "https://localhost:8080/"
        },
        "id": "sk7wrGM4Umra",
        "outputId": "878176e3-983b-4c8a-8d6b-906d031d2cdf"
      },
      "execution_count": 47,
      "outputs": [
        {
          "output_type": "execute_result",
          "data": {
            "text/plain": [
              "Make                 0\n",
              "Model                0\n",
              "Year                 0\n",
              "Engine Fuel Type     0\n",
              "Engine HP            0\n",
              "Engine Cylinders     0\n",
              "Transmission Type    0\n",
              "Driven_Wheels        0\n",
              "Number of Doors      0\n",
              "Market Category      0\n",
              "Vehicle Size         0\n",
              "Vehicle Style        0\n",
              "highway MPG          0\n",
              "city mpg             0\n",
              "Popularity           0\n",
              "MSRP                 0\n",
              "dtype: int64"
            ]
          },
          "metadata": {},
          "execution_count": 47
        }
      ]
    },
    {
      "cell_type": "markdown",
      "source": [
        "Step 3 : Dividing the data into X and y"
      ],
      "metadata": {
        "id": "w8Pek0YzWRRz"
      }
    },
    {
      "cell_type": "code",
      "source": [
        "X=data.drop(['MSRP'],axis=1) #independent variables\n",
        "y=data['MSRP'] #dependent variables"
      ],
      "metadata": {
        "id": "VZ5B5VdBUuio"
      },
      "execution_count": 50,
      "outputs": []
    },
    {
      "cell_type": "code",
      "source": [
        "X.head()"
      ],
      "metadata": {
        "colab": {
          "base_uri": "https://localhost:8080/",
          "height": 260
        },
        "id": "FyRmvcfdWvYU",
        "outputId": "5a2ff2b1-5c42-463e-aa72-818816d106ad"
      },
      "execution_count": 51,
      "outputs": [
        {
          "output_type": "execute_result",
          "data": {
            "text/plain": [
              "   Make  Model  Year  Engine Fuel Type  Engine HP  Engine Cylinders  \\\n",
              "0     4      1  2011                 8      335.0               6.0   \n",
              "1     4      0  2011                 8      300.0               6.0   \n",
              "2     4      0  2011                 8      300.0               6.0   \n",
              "3     4      0  2011                 8      230.0               6.0   \n",
              "4     4      0  2011                 8      230.0               6.0   \n",
              "\n",
              "   Transmission Type  Driven_Wheels  Number of Doors  Market Category  \\\n",
              "0                  3              3              2.0               38   \n",
              "1                  3              3              2.0               67   \n",
              "2                  3              3              2.0               64   \n",
              "3                  3              3              2.0               67   \n",
              "4                  3              3              2.0               63   \n",
              "\n",
              "   Vehicle Size  Vehicle Style  highway MPG  city mpg  Popularity  \n",
              "0             0              8           26        19        3916  \n",
              "1             0              6           28        19        3916  \n",
              "2             0              8           28        20        3916  \n",
              "3             0              8           28        18        3916  \n",
              "4             0              6           28        18        3916  "
            ],
            "text/html": [
              "\n",
              "  <div id=\"df-b0c82627-faa2-452d-aed0-83270fba5d35\" class=\"colab-df-container\">\n",
              "    <div>\n",
              "<style scoped>\n",
              "    .dataframe tbody tr th:only-of-type {\n",
              "        vertical-align: middle;\n",
              "    }\n",
              "\n",
              "    .dataframe tbody tr th {\n",
              "        vertical-align: top;\n",
              "    }\n",
              "\n",
              "    .dataframe thead th {\n",
              "        text-align: right;\n",
              "    }\n",
              "</style>\n",
              "<table border=\"1\" class=\"dataframe\">\n",
              "  <thead>\n",
              "    <tr style=\"text-align: right;\">\n",
              "      <th></th>\n",
              "      <th>Make</th>\n",
              "      <th>Model</th>\n",
              "      <th>Year</th>\n",
              "      <th>Engine Fuel Type</th>\n",
              "      <th>Engine HP</th>\n",
              "      <th>Engine Cylinders</th>\n",
              "      <th>Transmission Type</th>\n",
              "      <th>Driven_Wheels</th>\n",
              "      <th>Number of Doors</th>\n",
              "      <th>Market Category</th>\n",
              "      <th>Vehicle Size</th>\n",
              "      <th>Vehicle Style</th>\n",
              "      <th>highway MPG</th>\n",
              "      <th>city mpg</th>\n",
              "      <th>Popularity</th>\n",
              "    </tr>\n",
              "  </thead>\n",
              "  <tbody>\n",
              "    <tr>\n",
              "      <th>0</th>\n",
              "      <td>4</td>\n",
              "      <td>1</td>\n",
              "      <td>2011</td>\n",
              "      <td>8</td>\n",
              "      <td>335.0</td>\n",
              "      <td>6.0</td>\n",
              "      <td>3</td>\n",
              "      <td>3</td>\n",
              "      <td>2.0</td>\n",
              "      <td>38</td>\n",
              "      <td>0</td>\n",
              "      <td>8</td>\n",
              "      <td>26</td>\n",
              "      <td>19</td>\n",
              "      <td>3916</td>\n",
              "    </tr>\n",
              "    <tr>\n",
              "      <th>1</th>\n",
              "      <td>4</td>\n",
              "      <td>0</td>\n",
              "      <td>2011</td>\n",
              "      <td>8</td>\n",
              "      <td>300.0</td>\n",
              "      <td>6.0</td>\n",
              "      <td>3</td>\n",
              "      <td>3</td>\n",
              "      <td>2.0</td>\n",
              "      <td>67</td>\n",
              "      <td>0</td>\n",
              "      <td>6</td>\n",
              "      <td>28</td>\n",
              "      <td>19</td>\n",
              "      <td>3916</td>\n",
              "    </tr>\n",
              "    <tr>\n",
              "      <th>2</th>\n",
              "      <td>4</td>\n",
              "      <td>0</td>\n",
              "      <td>2011</td>\n",
              "      <td>8</td>\n",
              "      <td>300.0</td>\n",
              "      <td>6.0</td>\n",
              "      <td>3</td>\n",
              "      <td>3</td>\n",
              "      <td>2.0</td>\n",
              "      <td>64</td>\n",
              "      <td>0</td>\n",
              "      <td>8</td>\n",
              "      <td>28</td>\n",
              "      <td>20</td>\n",
              "      <td>3916</td>\n",
              "    </tr>\n",
              "    <tr>\n",
              "      <th>3</th>\n",
              "      <td>4</td>\n",
              "      <td>0</td>\n",
              "      <td>2011</td>\n",
              "      <td>8</td>\n",
              "      <td>230.0</td>\n",
              "      <td>6.0</td>\n",
              "      <td>3</td>\n",
              "      <td>3</td>\n",
              "      <td>2.0</td>\n",
              "      <td>67</td>\n",
              "      <td>0</td>\n",
              "      <td>8</td>\n",
              "      <td>28</td>\n",
              "      <td>18</td>\n",
              "      <td>3916</td>\n",
              "    </tr>\n",
              "    <tr>\n",
              "      <th>4</th>\n",
              "      <td>4</td>\n",
              "      <td>0</td>\n",
              "      <td>2011</td>\n",
              "      <td>8</td>\n",
              "      <td>230.0</td>\n",
              "      <td>6.0</td>\n",
              "      <td>3</td>\n",
              "      <td>3</td>\n",
              "      <td>2.0</td>\n",
              "      <td>63</td>\n",
              "      <td>0</td>\n",
              "      <td>6</td>\n",
              "      <td>28</td>\n",
              "      <td>18</td>\n",
              "      <td>3916</td>\n",
              "    </tr>\n",
              "  </tbody>\n",
              "</table>\n",
              "</div>\n",
              "    <div class=\"colab-df-buttons\">\n",
              "\n",
              "  <div class=\"colab-df-container\">\n",
              "    <button class=\"colab-df-convert\" onclick=\"convertToInteractive('df-b0c82627-faa2-452d-aed0-83270fba5d35')\"\n",
              "            title=\"Convert this dataframe to an interactive table.\"\n",
              "            style=\"display:none;\">\n",
              "\n",
              "  <svg xmlns=\"http://www.w3.org/2000/svg\" height=\"24px\" viewBox=\"0 -960 960 960\">\n",
              "    <path d=\"M120-120v-720h720v720H120Zm60-500h600v-160H180v160Zm220 220h160v-160H400v160Zm0 220h160v-160H400v160ZM180-400h160v-160H180v160Zm440 0h160v-160H620v160ZM180-180h160v-160H180v160Zm440 0h160v-160H620v160Z\"/>\n",
              "  </svg>\n",
              "    </button>\n",
              "\n",
              "  <style>\n",
              "    .colab-df-container {\n",
              "      display:flex;\n",
              "      gap: 12px;\n",
              "    }\n",
              "\n",
              "    .colab-df-convert {\n",
              "      background-color: #E8F0FE;\n",
              "      border: none;\n",
              "      border-radius: 50%;\n",
              "      cursor: pointer;\n",
              "      display: none;\n",
              "      fill: #1967D2;\n",
              "      height: 32px;\n",
              "      padding: 0 0 0 0;\n",
              "      width: 32px;\n",
              "    }\n",
              "\n",
              "    .colab-df-convert:hover {\n",
              "      background-color: #E2EBFA;\n",
              "      box-shadow: 0px 1px 2px rgba(60, 64, 67, 0.3), 0px 1px 3px 1px rgba(60, 64, 67, 0.15);\n",
              "      fill: #174EA6;\n",
              "    }\n",
              "\n",
              "    .colab-df-buttons div {\n",
              "      margin-bottom: 4px;\n",
              "    }\n",
              "\n",
              "    [theme=dark] .colab-df-convert {\n",
              "      background-color: #3B4455;\n",
              "      fill: #D2E3FC;\n",
              "    }\n",
              "\n",
              "    [theme=dark] .colab-df-convert:hover {\n",
              "      background-color: #434B5C;\n",
              "      box-shadow: 0px 1px 3px 1px rgba(0, 0, 0, 0.15);\n",
              "      filter: drop-shadow(0px 1px 2px rgba(0, 0, 0, 0.3));\n",
              "      fill: #FFFFFF;\n",
              "    }\n",
              "  </style>\n",
              "\n",
              "    <script>\n",
              "      const buttonEl =\n",
              "        document.querySelector('#df-b0c82627-faa2-452d-aed0-83270fba5d35 button.colab-df-convert');\n",
              "      buttonEl.style.display =\n",
              "        google.colab.kernel.accessAllowed ? 'block' : 'none';\n",
              "\n",
              "      async function convertToInteractive(key) {\n",
              "        const element = document.querySelector('#df-b0c82627-faa2-452d-aed0-83270fba5d35');\n",
              "        const dataTable =\n",
              "          await google.colab.kernel.invokeFunction('convertToInteractive',\n",
              "                                                    [key], {});\n",
              "        if (!dataTable) return;\n",
              "\n",
              "        const docLinkHtml = 'Like what you see? Visit the ' +\n",
              "          '<a target=\"_blank\" href=https://colab.research.google.com/notebooks/data_table.ipynb>data table notebook</a>'\n",
              "          + ' to learn more about interactive tables.';\n",
              "        element.innerHTML = '';\n",
              "        dataTable['output_type'] = 'display_data';\n",
              "        await google.colab.output.renderOutput(dataTable, element);\n",
              "        const docLink = document.createElement('div');\n",
              "        docLink.innerHTML = docLinkHtml;\n",
              "        element.appendChild(docLink);\n",
              "      }\n",
              "    </script>\n",
              "  </div>\n",
              "\n",
              "\n",
              "<div id=\"df-1fd24692-55fa-4829-b7dc-df8957ac0054\">\n",
              "  <button class=\"colab-df-quickchart\" onclick=\"quickchart('df-1fd24692-55fa-4829-b7dc-df8957ac0054')\"\n",
              "            title=\"Suggest charts\"\n",
              "            style=\"display:none;\">\n",
              "\n",
              "<svg xmlns=\"http://www.w3.org/2000/svg\" height=\"24px\"viewBox=\"0 0 24 24\"\n",
              "     width=\"24px\">\n",
              "    <g>\n",
              "        <path d=\"M19 3H5c-1.1 0-2 .9-2 2v14c0 1.1.9 2 2 2h14c1.1 0 2-.9 2-2V5c0-1.1-.9-2-2-2zM9 17H7v-7h2v7zm4 0h-2V7h2v10zm4 0h-2v-4h2v4z\"/>\n",
              "    </g>\n",
              "</svg>\n",
              "  </button>\n",
              "\n",
              "<style>\n",
              "  .colab-df-quickchart {\n",
              "      --bg-color: #E8F0FE;\n",
              "      --fill-color: #1967D2;\n",
              "      --hover-bg-color: #E2EBFA;\n",
              "      --hover-fill-color: #174EA6;\n",
              "      --disabled-fill-color: #AAA;\n",
              "      --disabled-bg-color: #DDD;\n",
              "  }\n",
              "\n",
              "  [theme=dark] .colab-df-quickchart {\n",
              "      --bg-color: #3B4455;\n",
              "      --fill-color: #D2E3FC;\n",
              "      --hover-bg-color: #434B5C;\n",
              "      --hover-fill-color: #FFFFFF;\n",
              "      --disabled-bg-color: #3B4455;\n",
              "      --disabled-fill-color: #666;\n",
              "  }\n",
              "\n",
              "  .colab-df-quickchart {\n",
              "    background-color: var(--bg-color);\n",
              "    border: none;\n",
              "    border-radius: 50%;\n",
              "    cursor: pointer;\n",
              "    display: none;\n",
              "    fill: var(--fill-color);\n",
              "    height: 32px;\n",
              "    padding: 0;\n",
              "    width: 32px;\n",
              "  }\n",
              "\n",
              "  .colab-df-quickchart:hover {\n",
              "    background-color: var(--hover-bg-color);\n",
              "    box-shadow: 0 1px 2px rgba(60, 64, 67, 0.3), 0 1px 3px 1px rgba(60, 64, 67, 0.15);\n",
              "    fill: var(--button-hover-fill-color);\n",
              "  }\n",
              "\n",
              "  .colab-df-quickchart-complete:disabled,\n",
              "  .colab-df-quickchart-complete:disabled:hover {\n",
              "    background-color: var(--disabled-bg-color);\n",
              "    fill: var(--disabled-fill-color);\n",
              "    box-shadow: none;\n",
              "  }\n",
              "\n",
              "  .colab-df-spinner {\n",
              "    border: 2px solid var(--fill-color);\n",
              "    border-color: transparent;\n",
              "    border-bottom-color: var(--fill-color);\n",
              "    animation:\n",
              "      spin 1s steps(1) infinite;\n",
              "  }\n",
              "\n",
              "  @keyframes spin {\n",
              "    0% {\n",
              "      border-color: transparent;\n",
              "      border-bottom-color: var(--fill-color);\n",
              "      border-left-color: var(--fill-color);\n",
              "    }\n",
              "    20% {\n",
              "      border-color: transparent;\n",
              "      border-left-color: var(--fill-color);\n",
              "      border-top-color: var(--fill-color);\n",
              "    }\n",
              "    30% {\n",
              "      border-color: transparent;\n",
              "      border-left-color: var(--fill-color);\n",
              "      border-top-color: var(--fill-color);\n",
              "      border-right-color: var(--fill-color);\n",
              "    }\n",
              "    40% {\n",
              "      border-color: transparent;\n",
              "      border-right-color: var(--fill-color);\n",
              "      border-top-color: var(--fill-color);\n",
              "    }\n",
              "    60% {\n",
              "      border-color: transparent;\n",
              "      border-right-color: var(--fill-color);\n",
              "    }\n",
              "    80% {\n",
              "      border-color: transparent;\n",
              "      border-right-color: var(--fill-color);\n",
              "      border-bottom-color: var(--fill-color);\n",
              "    }\n",
              "    90% {\n",
              "      border-color: transparent;\n",
              "      border-bottom-color: var(--fill-color);\n",
              "    }\n",
              "  }\n",
              "</style>\n",
              "\n",
              "  <script>\n",
              "    async function quickchart(key) {\n",
              "      const quickchartButtonEl =\n",
              "        document.querySelector('#' + key + ' button');\n",
              "      quickchartButtonEl.disabled = true;  // To prevent multiple clicks.\n",
              "      quickchartButtonEl.classList.add('colab-df-spinner');\n",
              "      try {\n",
              "        const charts = await google.colab.kernel.invokeFunction(\n",
              "            'suggestCharts', [key], {});\n",
              "      } catch (error) {\n",
              "        console.error('Error during call to suggestCharts:', error);\n",
              "      }\n",
              "      quickchartButtonEl.classList.remove('colab-df-spinner');\n",
              "      quickchartButtonEl.classList.add('colab-df-quickchart-complete');\n",
              "    }\n",
              "    (() => {\n",
              "      let quickchartButtonEl =\n",
              "        document.querySelector('#df-1fd24692-55fa-4829-b7dc-df8957ac0054 button');\n",
              "      quickchartButtonEl.style.display =\n",
              "        google.colab.kernel.accessAllowed ? 'block' : 'none';\n",
              "    })();\n",
              "  </script>\n",
              "</div>\n",
              "\n",
              "    </div>\n",
              "  </div>\n"
            ],
            "application/vnd.google.colaboratory.intrinsic+json": {
              "type": "dataframe",
              "variable_name": "X",
              "summary": "{\n  \"name\": \"X\",\n  \"rows\": 11914,\n  \"fields\": [\n    {\n      \"column\": \"Make\",\n      \"properties\": {\n        \"dtype\": \"number\",\n        \"std\": 14,\n        \"min\": 0,\n        \"max\": 47,\n        \"num_unique_values\": 48,\n        \"samples\": [\n          9,\n          23,\n          5\n        ],\n        \"semantic_type\": \"\",\n        \"description\": \"\"\n      }\n    },\n    {\n      \"column\": \"Model\",\n      \"properties\": {\n        \"dtype\": \"number\",\n        \"std\": 269,\n        \"min\": 0,\n        \"max\": 914,\n        \"num_unique_values\": 915,\n        \"samples\": [\n          378,\n          844,\n          357\n        ],\n        \"semantic_type\": \"\",\n        \"description\": \"\"\n      }\n    },\n    {\n      \"column\": \"Year\",\n      \"properties\": {\n        \"dtype\": \"number\",\n        \"std\": 7,\n        \"min\": 1990,\n        \"max\": 2017,\n        \"num_unique_values\": 28,\n        \"samples\": [\n          1990,\n          2000,\n          2016\n        ],\n        \"semantic_type\": \"\",\n        \"description\": \"\"\n      }\n    },\n    {\n      \"column\": \"Engine Fuel Type\",\n      \"properties\": {\n        \"dtype\": \"number\",\n        \"std\": 1,\n        \"min\": 0,\n        \"max\": 10,\n        \"num_unique_values\": 11,\n        \"samples\": [\n          1,\n          8,\n          5\n        ],\n        \"semantic_type\": \"\",\n        \"description\": \"\"\n      }\n    },\n    {\n      \"column\": \"Engine HP\",\n      \"properties\": {\n        \"dtype\": \"number\",\n        \"std\": 108.93967209637263,\n        \"min\": 55.0,\n        \"max\": 1001.0,\n        \"num_unique_values\": 356,\n        \"samples\": [\n          145.0,\n          201.0,\n          219.0\n        ],\n        \"semantic_type\": \"\",\n        \"description\": \"\"\n      }\n    },\n    {\n      \"column\": \"Engine Cylinders\",\n      \"properties\": {\n        \"dtype\": \"number\",\n        \"std\": 1.780188768829964,\n        \"min\": 0.0,\n        \"max\": 16.0,\n        \"num_unique_values\": 9,\n        \"samples\": [\n          3.0,\n          4.0,\n          0.0\n        ],\n        \"semantic_type\": \"\",\n        \"description\": \"\"\n      }\n    },\n    {\n      \"column\": \"Transmission Type\",\n      \"properties\": {\n        \"dtype\": \"number\",\n        \"std\": 0,\n        \"min\": 0,\n        \"max\": 4,\n        \"num_unique_values\": 5,\n        \"samples\": [\n          1,\n          4,\n          0\n        ],\n        \"semantic_type\": \"\",\n        \"description\": \"\"\n      }\n    },\n    {\n      \"column\": \"Driven_Wheels\",\n      \"properties\": {\n        \"dtype\": \"number\",\n        \"std\": 1,\n        \"min\": 0,\n        \"max\": 3,\n        \"num_unique_values\": 4,\n        \"samples\": [\n          2,\n          1,\n          3\n        ],\n        \"semantic_type\": \"\",\n        \"description\": \"\"\n      }\n    },\n    {\n      \"column\": \"Number of Doors\",\n      \"properties\": {\n        \"dtype\": \"number\",\n        \"std\": 0.8811842553505588,\n        \"min\": 2.0,\n        \"max\": 4.0,\n        \"num_unique_values\": 3,\n        \"samples\": [\n          2.0,\n          4.0,\n          3.0\n        ],\n        \"semantic_type\": \"\",\n        \"description\": \"\"\n      }\n    },\n    {\n      \"column\": \"Market Category\",\n      \"properties\": {\n        \"dtype\": \"number\",\n        \"std\": 23,\n        \"min\": 0,\n        \"max\": 71,\n        \"num_unique_values\": 72,\n        \"samples\": [\n          69,\n          3,\n          25\n        ],\n        \"semantic_type\": \"\",\n        \"description\": \"\"\n      }\n    },\n    {\n      \"column\": \"Vehicle Size\",\n      \"properties\": {\n        \"dtype\": \"number\",\n        \"std\": 0,\n        \"min\": 0,\n        \"max\": 2,\n        \"num_unique_values\": 3,\n        \"samples\": [\n          0,\n          2,\n          1\n        ],\n        \"semantic_type\": \"\",\n        \"description\": \"\"\n      }\n    },\n    {\n      \"column\": \"Vehicle Style\",\n      \"properties\": {\n        \"dtype\": \"number\",\n        \"std\": 4,\n        \"min\": 0,\n        \"max\": 15,\n        \"num_unique_values\": 16,\n        \"samples\": [\n          8,\n          6,\n          0\n        ],\n        \"semantic_type\": \"\",\n        \"description\": \"\"\n      }\n    },\n    {\n      \"column\": \"highway MPG\",\n      \"properties\": {\n        \"dtype\": \"number\",\n        \"std\": 8,\n        \"min\": 12,\n        \"max\": 354,\n        \"num_unique_values\": 59,\n        \"samples\": [\n          26,\n          20,\n          354\n        ],\n        \"semantic_type\": \"\",\n        \"description\": \"\"\n      }\n    },\n    {\n      \"column\": \"city mpg\",\n      \"properties\": {\n        \"dtype\": \"number\",\n        \"std\": 8,\n        \"min\": 7,\n        \"max\": 137,\n        \"num_unique_values\": 69,\n        \"samples\": [\n          9,\n          19,\n          41\n        ],\n        \"semantic_type\": \"\",\n        \"description\": \"\"\n      }\n    },\n    {\n      \"column\": \"Popularity\",\n      \"properties\": {\n        \"dtype\": \"number\",\n        \"std\": 1441,\n        \"min\": 2,\n        \"max\": 5657,\n        \"num_unique_values\": 48,\n        \"samples\": [\n          1385,\n          258,\n          520\n        ],\n        \"semantic_type\": \"\",\n        \"description\": \"\"\n      }\n    }\n  ]\n}"
            }
          },
          "metadata": {},
          "execution_count": 51
        }
      ]
    },
    {
      "cell_type": "markdown",
      "source": [
        "Step 4 : Splitting the data into training and testing set"
      ],
      "metadata": {
        "id": "AuGj0uSLXX06"
      }
    },
    {
      "cell_type": "code",
      "source": [],
      "metadata": {
        "id": "p4P6EWxnXTJb"
      },
      "execution_count": null,
      "outputs": []
    }
  ]
}